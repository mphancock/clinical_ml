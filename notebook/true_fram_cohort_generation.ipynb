{
 "cells": [
  {
   "cell_type": "code",
   "execution_count": 41,
   "metadata": {
    "collapsed": true
   },
   "outputs": [],
   "source": [
    "import pandas as pd \n",
    "import os \n",
    "\n",
    "data_path = '/legodata/zhaoj/cvd_risk_time2/data/processed/aggregate' \n",
    "data_path_1_8 = '/legodata/zhaoj/cvd_risk_time2/data_1_8/'\n",
    "\n",
    "# df_cohort = pd.read_csv(os.path.join(data_path_1_8, 'processed', 'df_merged_fram_case_plus_match.csv'))\n",
    "\n",
    "df_map = pd.read_csv(os.path.join(data_path_1_8, 'raw', 'control_case_mappings.csv'))\n",
    "df_cohort = pd.read_csv(os.path.join(data_path_1_8, 'processed', 'df_fram_cohort.csv'))\n",
    "# df_fram = pd.read_csv(os.path.join(data_path_1_8, 'for_framingham', 'processed', 'merged_framingham2.csv'))"
   ]
  },
  {
   "cell_type": "code",
   "execution_count": 63,
   "metadata": {
    "collapsed": true
   },
   "outputs": [],
   "source": [
    "df_map_pred = df_map.merge(df_cohort[['GRID', 'predict']], left_on='GRID_CONTROL', right_on='GRID', how='inner')\n",
    "df_map_pred.pop('GRID_y')\n",
    "df_map_pred = df_map_pred.rename(columns={'GRID_x': 'GRID'})"
   ]
  },
  {
   "cell_type": "code",
   "execution_count": 70,
   "metadata": {
    "collapsed": true,
    "scrolled": true
   },
   "outputs": [],
   "source": [
    "case_lst = list(df_cohort.loc[df_cohort['CLASS'] == 1]['GRID'])"
   ]
  },
  {
   "cell_type": "code",
   "execution_count": 78,
   "metadata": {
    "collapsed": true
   },
   "outputs": [],
   "source": [
    "case_mapped_low_risk_lst = list() \n",
    "for case in case_lst: \n",
    "    df_case_map = df_map_pred.loc[df_map_pred['GRID'] == case]\n",
    "    if df_case_map['predict'].sum() == 0: \n",
    "        case_mapped_low_risk_lst.append(case)"
   ]
  },
  {
   "cell_type": "code",
   "execution_count": 80,
   "metadata": {
    "scrolled": false
   },
   "outputs": [
    {
     "data": {
      "text/plain": [
       "0"
      ]
     },
     "execution_count": 80,
     "metadata": {},
     "output_type": "execute_result"
    }
   ],
   "source": [
    "df_map_pred.loc[df_map_pred['GRID'].isin(case_mapped_low_risk_lst)]['predict'].sum()"
   ]
  },
  {
   "cell_type": "code",
   "execution_count": 97,
   "metadata": {
    "collapsed": true
   },
   "outputs": [],
   "source": [
    "case_control_lst = list(df_map_pred.loc[df_map_pred['GRID'].isin(case_mapped_low_risk_lst)]['GRID_CONTROL'])\n",
    "# case_control_lst.append(list(set(df_map_pred['GRID'])))\n",
    "case_control_lst.extend(case_mapped_low_risk_lst)"
   ]
  },
  {
   "cell_type": "code",
   "execution_count": 103,
   "metadata": {
    "collapsed": true
   },
   "outputs": [],
   "source": [
    "df_true_fram = df_cohort.loc[df_cohort['GRID'].isin(case_control_lst)]"
   ]
  },
  {
   "cell_type": "code",
   "execution_count": 107,
   "metadata": {},
   "outputs": [
    {
     "data": {
      "text/html": [
       "<div>\n",
       "<style>\n",
       "    .dataframe thead tr:only-child th {\n",
       "        text-align: right;\n",
       "    }\n",
       "\n",
       "    .dataframe thead th {\n",
       "        text-align: left;\n",
       "    }\n",
       "\n",
       "    .dataframe tbody tr th {\n",
       "        vertical-align: top;\n",
       "    }\n",
       "</style>\n",
       "<table border=\"1\" class=\"dataframe\">\n",
       "  <thead>\n",
       "    <tr style=\"text-align: right;\">\n",
       "      <th></th>\n",
       "      <th>GRID</th>\n",
       "      <th>GENDER</th>\n",
       "      <th>AGE_AT_BASELINE</th>\n",
       "      <th>DURATION_BF_BASELINE</th>\n",
       "      <th>RACE_B</th>\n",
       "      <th>RACE_U</th>\n",
       "      <th>RACE_W</th>\n",
       "      <th>SMOKING</th>\n",
       "      <th>MIN_BMI</th>\n",
       "      <th>MAX_BMI</th>\n",
       "      <th>...</th>\n",
       "      <th>missing_('WBCrt', 'MAX_VALUE')_True</th>\n",
       "      <th>missing_('eGFR', 'MAX_VALUE')_True</th>\n",
       "      <th>missing_('pC02-V', 'MAX_VALUE')_True</th>\n",
       "      <th>missing_('pH', 'MAX_VALUE')_True</th>\n",
       "      <th>missing_('pH-Ven', 'MAX_VALUE')_True</th>\n",
       "      <th>missing_('pO2-V', 'MAX_VALUE')_True</th>\n",
       "      <th>missing_('sn', 'MAX_VALUE')_True</th>\n",
       "      <th>missing_BMI_True</th>\n",
       "      <th>missing_bp_True</th>\n",
       "      <th>predict</th>\n",
       "    </tr>\n",
       "  </thead>\n",
       "  <tbody>\n",
       "    <tr>\n",
       "      <th>1</th>\n",
       "      <td>R200001457</td>\n",
       "      <td>1</td>\n",
       "      <td>28</td>\n",
       "      <td>3925</td>\n",
       "      <td>0</td>\n",
       "      <td>0</td>\n",
       "      <td>1</td>\n",
       "      <td>0</td>\n",
       "      <td>24.623673</td>\n",
       "      <td>27.409055</td>\n",
       "      <td>...</td>\n",
       "      <td>1</td>\n",
       "      <td>1</td>\n",
       "      <td>1</td>\n",
       "      <td>1</td>\n",
       "      <td>1</td>\n",
       "      <td>1</td>\n",
       "      <td>1</td>\n",
       "      <td>1</td>\n",
       "      <td>1</td>\n",
       "      <td>0</td>\n",
       "    </tr>\n",
       "    <tr>\n",
       "      <th>2</th>\n",
       "      <td>R200004520</td>\n",
       "      <td>0</td>\n",
       "      <td>25</td>\n",
       "      <td>2239</td>\n",
       "      <td>0</td>\n",
       "      <td>0</td>\n",
       "      <td>1</td>\n",
       "      <td>0</td>\n",
       "      <td>24.197601</td>\n",
       "      <td>26.437351</td>\n",
       "      <td>...</td>\n",
       "      <td>1</td>\n",
       "      <td>1</td>\n",
       "      <td>1</td>\n",
       "      <td>1</td>\n",
       "      <td>1</td>\n",
       "      <td>1</td>\n",
       "      <td>1</td>\n",
       "      <td>1</td>\n",
       "      <td>1</td>\n",
       "      <td>0</td>\n",
       "    </tr>\n",
       "    <tr>\n",
       "      <th>3</th>\n",
       "      <td>R200005614</td>\n",
       "      <td>0</td>\n",
       "      <td>44</td>\n",
       "      <td>4614</td>\n",
       "      <td>0</td>\n",
       "      <td>0</td>\n",
       "      <td>1</td>\n",
       "      <td>0</td>\n",
       "      <td>29.370526</td>\n",
       "      <td>29.370526</td>\n",
       "      <td>...</td>\n",
       "      <td>1</td>\n",
       "      <td>1</td>\n",
       "      <td>1</td>\n",
       "      <td>1</td>\n",
       "      <td>1</td>\n",
       "      <td>1</td>\n",
       "      <td>1</td>\n",
       "      <td>0</td>\n",
       "      <td>0</td>\n",
       "      <td>0</td>\n",
       "    </tr>\n",
       "    <tr>\n",
       "      <th>4</th>\n",
       "      <td>R200006183</td>\n",
       "      <td>0</td>\n",
       "      <td>27</td>\n",
       "      <td>2029</td>\n",
       "      <td>0</td>\n",
       "      <td>0</td>\n",
       "      <td>1</td>\n",
       "      <td>0</td>\n",
       "      <td>25.226420</td>\n",
       "      <td>27.058178</td>\n",
       "      <td>...</td>\n",
       "      <td>1</td>\n",
       "      <td>1</td>\n",
       "      <td>1</td>\n",
       "      <td>1</td>\n",
       "      <td>1</td>\n",
       "      <td>1</td>\n",
       "      <td>1</td>\n",
       "      <td>1</td>\n",
       "      <td>1</td>\n",
       "      <td>0</td>\n",
       "    </tr>\n",
       "    <tr>\n",
       "      <th>5</th>\n",
       "      <td>R200007283</td>\n",
       "      <td>1</td>\n",
       "      <td>56</td>\n",
       "      <td>3818</td>\n",
       "      <td>0</td>\n",
       "      <td>0</td>\n",
       "      <td>1</td>\n",
       "      <td>0</td>\n",
       "      <td>27.167348</td>\n",
       "      <td>29.246278</td>\n",
       "      <td>...</td>\n",
       "      <td>1</td>\n",
       "      <td>1</td>\n",
       "      <td>1</td>\n",
       "      <td>1</td>\n",
       "      <td>1</td>\n",
       "      <td>1</td>\n",
       "      <td>1</td>\n",
       "      <td>1</td>\n",
       "      <td>1</td>\n",
       "      <td>0</td>\n",
       "    </tr>\n",
       "  </tbody>\n",
       "</table>\n",
       "<p>5 rows × 2640 columns</p>\n",
       "</div>"
      ],
      "text/plain": [
       "         GRID  GENDER  AGE_AT_BASELINE  DURATION_BF_BASELINE  RACE_B  RACE_U  \\\n",
       "1  R200001457       1               28                  3925       0       0   \n",
       "2  R200004520       0               25                  2239       0       0   \n",
       "3  R200005614       0               44                  4614       0       0   \n",
       "4  R200006183       0               27                  2029       0       0   \n",
       "5  R200007283       1               56                  3818       0       0   \n",
       "\n",
       "   RACE_W  SMOKING    MIN_BMI    MAX_BMI   ...     \\\n",
       "1       1        0  24.623673  27.409055   ...      \n",
       "2       1        0  24.197601  26.437351   ...      \n",
       "3       1        0  29.370526  29.370526   ...      \n",
       "4       1        0  25.226420  27.058178   ...      \n",
       "5       1        0  27.167348  29.246278   ...      \n",
       "\n",
       "   missing_('WBCrt', 'MAX_VALUE')_True  missing_('eGFR', 'MAX_VALUE')_True  \\\n",
       "1                                    1                                   1   \n",
       "2                                    1                                   1   \n",
       "3                                    1                                   1   \n",
       "4                                    1                                   1   \n",
       "5                                    1                                   1   \n",
       "\n",
       "   missing_('pC02-V', 'MAX_VALUE')_True  missing_('pH', 'MAX_VALUE')_True  \\\n",
       "1                                     1                                 1   \n",
       "2                                     1                                 1   \n",
       "3                                     1                                 1   \n",
       "4                                     1                                 1   \n",
       "5                                     1                                 1   \n",
       "\n",
       "   missing_('pH-Ven', 'MAX_VALUE')_True  missing_('pO2-V', 'MAX_VALUE')_True  \\\n",
       "1                                     1                                    1   \n",
       "2                                     1                                    1   \n",
       "3                                     1                                    1   \n",
       "4                                     1                                    1   \n",
       "5                                     1                                    1   \n",
       "\n",
       "   missing_('sn', 'MAX_VALUE')_True  missing_BMI_True  missing_bp_True  \\\n",
       "1                                 1                 1                1   \n",
       "2                                 1                 1                1   \n",
       "3                                 1                 0                0   \n",
       "4                                 1                 1                1   \n",
       "5                                 1                 1                1   \n",
       "\n",
       "   predict  \n",
       "1        0  \n",
       "2        0  \n",
       "3        0  \n",
       "4        0  \n",
       "5        0  \n",
       "\n",
       "[5 rows x 2640 columns]"
      ]
     },
     "execution_count": 107,
     "metadata": {},
     "output_type": "execute_result"
    }
   ],
   "source": [
    "df_true_fram.head()"
   ]
  },
  {
   "cell_type": "code",
   "execution_count": 108,
   "metadata": {},
   "outputs": [
    {
     "data": {
      "text/plain": [
       "0"
      ]
     },
     "execution_count": 108,
     "metadata": {},
     "output_type": "execute_result"
    }
   ],
   "source": [
    "df_true_fram.loc[df_true_fram['CLASS'] == 0]['predict'].sum()"
   ]
  },
  {
   "cell_type": "code",
   "execution_count": null,
   "metadata": {
    "collapsed": true
   },
   "outputs": [],
   "source": [
    "df_true_fram.to_csv(os.path.join(data_path_1_8, 'processed', 'df_true_fram_cohort.csv'), index=False)"
   ]
  }
 ],
 "metadata": {
  "kernelspec": {
   "display_name": "Python (ML)",
   "language": "python",
   "name": "ml"
  },
  "language_info": {
   "codemirror_mode": {
    "name": "ipython",
    "version": 3.0
   },
   "file_extension": ".py",
   "mimetype": "text/x-python",
   "name": "python",
   "nbconvert_exporter": "python",
   "pygments_lexer": "ipython3",
   "version": "3.6.2"
  }
 },
 "nbformat": 4,
 "nbformat_minor": 0
}