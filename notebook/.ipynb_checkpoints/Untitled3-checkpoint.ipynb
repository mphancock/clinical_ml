{
 "cells": [
  {
   "cell_type": "code",
   "execution_count": 2,
   "metadata": {
    "collapsed": true
   },
   "outputs": [],
   "source": [
    "from scipy.stats import ttest_ind\n",
    "from sklearn.metrics import roc_auc_score"
   ]
  },
  {
   "cell_type": "code",
   "execution_count": 3,
   "metadata": {
    "collapsed": true
   },
   "outputs": [],
   "source": [
    "import pandas as pd"
   ]
  },
  {
   "cell_type": "code",
   "execution_count": 5,
   "metadata": {},
   "outputs": [],
   "source": [
    "df_5e6_fram = pd.read_csv('/legodata/zhaoj/cvd_risk_time2/src/dnn/results/exp1/5e6_fram_pred.csv')\n",
    "df_5e7_fram = pd.read_csv('/legodata/zhaoj/cvd_risk_time2/src/dnn/results/exp1/5e7_fram_pred.csv')\n",
    "df_5e8_fram = pd.read_csv('/legodata/zhaoj/cvd_risk_time2/src/dnn/results/exp1/5e8_fram_pred.csv')\n",
    "df_5e10_fram = pd.read_csv('/legodata/zhaoj/cvd_risk_time2/src/dnn/results/exp1/5e10_fram_pred.csv')\n",
    "\n",
    "df_5e6_full = pd.read_csv('/legodata/zhaoj/cvd_risk_time2/src/dnn/results/exp1/5e6_full_pred.csv')\n",
    "df_5e7_full = pd.read_csv('/legodata/zhaoj/cvd_risk_time2/src/dnn/results/exp1/5e7_full_pred.csv')\n",
    "df_5e8_full = pd.read_csv('/legodata/zhaoj/cvd_risk_time2/src/dnn/results/exp1/5e8_full_pred.csv')\n",
    "df_5e10_full = pd.read_csv('/legodata/zhaoj/cvd_risk_time2/src/dnn/results/exp1/5e10_full_pred.csv')"
   ]
  },
  {
   "cell_type": "code",
   "execution_count": 7,
   "metadata": {
    "scrolled": true
   },
   "outputs": [
    {
     "name": "stdout",
     "output_type": "stream",
     "text": [
      "0.557379796415\n",
      "0.561286826806\n",
      "0.557841448459\n",
      "0.558858852001\n"
     ]
    }
   ],
   "source": [
    "for df_pred in [df_5e6_fram, df_5e7_fram, df_5e8_fram, df_5e10_fram]:\n",
    "    print(roc_auc_score(df_pred['CLASS'], df_pred['SCORE']))"
   ]
  },
  {
   "cell_type": "code",
   "execution_count": null,
   "metadata": {
    "collapsed": true
   },
   "outputs": [],
   "source": []
  },
  {
   "cell_type": "code",
   "execution_count": 31,
   "metadata": {},
   "outputs": [
    {
     "name": "stdout",
     "output_type": "stream",
     "text": [
      "0.657448494761\n",
      "0.657401929885\n",
      "Ttest_indResult(statistic=0.0095976915047339528, pvalue=0.99244784258606489)\n",
      "0.702330341018\n",
      "0.702555226701\n",
      "Ttest_indResult(statistic=-0.050930953408831539, pvalue=0.95994147558096421)\n",
      "0.722806335447\n",
      "0.699045144178\n",
      "Ttest_indResult(statistic=6.4427687043669639, pvalue=4.6098693510094334e-06)\n"
     ]
    }
   ],
   "source": [
    "for full, fram in [(gbt_full, gbt_true_fram), (lr_full, lr_true_fram), (rf_full, rf_true_fram)]: \n",
    "    auc_dict = {'full': [], 'fram': []} \n",
    "    \n",
    "    fram_avg = 0 \n",
    "    full_avg = 0 \n",
    "    \n",
    "    for i in range(10): \n",
    "        fram_fold = full.loc[full['FOLD'] == i]\n",
    "        full_fold = fram.loc[fram['FOLD'] == i] \n",
    "        full_auc = roc_auc_score(full_fold['CLASS'], full_fold['SCORE'])\n",
    "        fram_auc = roc_auc_score(fram_fold['CLASS'], fram_fold['SCORE']) \n",
    "        \n",
    "        full_avg += full_auc \n",
    "        fram_avg += fram_auc \n",
    "        \n",
    "        auc_dict['full'].append(full_auc)\n",
    "        auc_dict['fram'].append(fram_auc) \n",
    "        \n",
    "    full_avg /= 10 \n",
    "    fram_avg /= 10 \n",
    "    \n",
    "    print(full_avg)\n",
    "    print(fram_avg)\n",
    "    \n",
    "    df_auc = pd.DataFrame(auc_dict)\n",
    "    \n",
    "    print(ttest_ind(auc_dict['full'], auc_dict['fram']))\n",
    "\n",
    "        "
   ]
  },
  {
   "cell_type": "code",
   "execution_count": null,
   "metadata": {
    "collapsed": true
   },
   "outputs": [],
   "source": []
  },
  {
   "cell_type": "code",
   "execution_count": null,
   "metadata": {
    "collapsed": true
   },
   "outputs": [],
   "source": []
  }
 ],
 "metadata": {
  "kernelspec": {
   "display_name": "Python (ML)",
   "language": "python",
   "name": "ml"
  },
  "language_info": {
   "codemirror_mode": {
    "name": "ipython",
    "version": 3
   },
   "file_extension": ".py",
   "mimetype": "text/x-python",
   "name": "python",
   "nbconvert_exporter": "python",
   "pygments_lexer": "ipython3",
   "version": "3.6.2"
  }
 },
 "nbformat": 4,
 "nbformat_minor": 2
}
