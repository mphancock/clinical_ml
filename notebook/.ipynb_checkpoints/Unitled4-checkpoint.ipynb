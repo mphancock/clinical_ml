{
 "cells": [
  {
   "cell_type": "code",
   "execution_count": 2,
   "metadata": {
    "collapsed": true
   },
   "outputs": [],
   "source": [
    "from scipy.stats import ttest_ind\n",
    "from sklearn.metrics import roc_auc_score"
   ]
  },
  {
   "cell_type": "code",
   "execution_count": 5,
   "metadata": {
    "collapsed": true
   },
   "outputs": [],
   "source": [
    "import pandas as pd\n",
    "import os "
   ]
  },
  {
   "cell_type": "code",
   "execution_count": 7,
   "metadata": {},
   "outputs": [],
   "source": [
    "df_fram = pd.read_csv(os.path.join('/legodata/zhaoj/cvd_risk_time2/src/exome/results/256,8_.75,.5_fram_pred.csv'))\n",
    "df_full = pd.read_csv(os.path.join('/legodata/zhaoj/cvd_risk_time2/src/exome/results/256,8_.75,.5_full_pred.csv'))\n"
   ]
  },
  {
   "cell_type": "code",
   "execution_count": 16,
   "metadata": {
    "scrolled": false
   },
   "outputs": [
    {
     "name": "stdout",
     "output_type": "stream",
     "text": [
      "0.557379796415\n",
      "0.561286826806\n",
      "0.557841448459\n",
      "0.558858852001\n"
     ]
    }
   ],
   "source": [
    "print(roc_auc_score(df_fram['CLASS'], df_fram['SCORE']))\n",
    "print(roc_auc_score(df_ful['CLASS'], df_fram['SCORE']))"
   ]
  },
  {
   "cell_type": "code",
   "execution_count": 29,
   "metadata": {
    "collapsed": true
   },
   "outputs": [],
   "source": [
    "dict_summary = dict() "
   ]
  },
  {
   "cell_type": "code",
   "execution_count": 30,
   "metadata": {
    "scrolled": false
   },
   "outputs": [
    {
     "name": "stdout",
     "output_type": "stream",
     "text": [
      "0.560819990626\n",
      "0.5628638653\n",
      "0.558959294848\n",
      "0.559416942359\n"
     ]
    }
   ],
   "source": [
    "for thresh in ['5e6', '5e7', '5e8', '5e10']:\n",
    "    avg_auc = 0 \n",
    "    df_pred = fram_dict[thresh]\n",
    "    \n",
    "    dict_summary['{}_fram'.format(thresh)] = list()\n",
    "    \n",
    "    for i in range(10): \n",
    "        df_pred_fold = df_pred.loc[df_pred['FOLD'] == i]\n",
    "        roc_auc = roc_auc_score(df_pred_fold['CLASS'], df_pred_fold['SCORE'])\n",
    "        \n",
    "        dict_summary['{}_fram'.format(thresh)].append(roc_auc)\n",
    "        avg_auc += roc_auc \n",
    "    \n",
    "    print(avg_auc / 10)"
   ]
  },
  {
   "cell_type": "code",
   "execution_count": 31,
   "metadata": {},
   "outputs": [
    {
     "name": "stdout",
     "output_type": "stream",
     "text": [
      "0.541968895882\n",
      "0.541173377802\n",
      "0.546572086245\n",
      "0.543700489788\n"
     ]
    }
   ],
   "source": [
    "for thresh in ['5e6', '5e7', '5e8', '5e10']:\n",
    "    avg_auc = 0 \n",
    "    df_pred = full_dict[thresh]\n",
    "    \n",
    "    dict_summary['{}_full'.format(thresh)] = list()\n",
    "    \n",
    "    for i in range(10): \n",
    "        df_pred_fold = df_pred.loc[df_pred['FOLD'] == i]\n",
    "        roc_auc = roc_auc_score(df_pred_fold['CLASS'], df_pred_fold['SCORE'])\n",
    "        \n",
    "        dict_summary['{}_full'.format(thresh)].append(roc_auc)\n",
    "        avg_auc += roc_auc \n",
    "    \n",
    "    print(avg_auc / 10)"
   ]
  },
  {
   "cell_type": "code",
   "execution_count": 35,
   "metadata": {
    "scrolled": false
   },
   "outputs": [
    {
     "data": {
      "text/html": [
       "<div>\n",
       "<style>\n",
       "    .dataframe thead tr:only-child th {\n",
       "        text-align: right;\n",
       "    }\n",
       "\n",
       "    .dataframe thead th {\n",
       "        text-align: left;\n",
       "    }\n",
       "\n",
       "    .dataframe tbody tr th {\n",
       "        vertical-align: top;\n",
       "    }\n",
       "</style>\n",
       "<table border=\"1\" class=\"dataframe\">\n",
       "  <thead>\n",
       "    <tr style=\"text-align: right;\">\n",
       "      <th></th>\n",
       "      <th>5e10_fram</th>\n",
       "      <th>5e10_full</th>\n",
       "      <th>5e6_fram</th>\n",
       "      <th>5e6_full</th>\n",
       "      <th>5e7_fram</th>\n",
       "      <th>5e7_full</th>\n",
       "      <th>5e8_fram</th>\n",
       "      <th>5e8_full</th>\n",
       "    </tr>\n",
       "  </thead>\n",
       "  <tbody>\n",
       "    <tr>\n",
       "      <th>0</th>\n",
       "      <td>0.551315</td>\n",
       "      <td>0.547159</td>\n",
       "      <td>0.552312</td>\n",
       "      <td>0.546205</td>\n",
       "      <td>0.556933</td>\n",
       "      <td>0.542133</td>\n",
       "      <td>0.558516</td>\n",
       "      <td>0.534661</td>\n",
       "    </tr>\n",
       "    <tr>\n",
       "      <th>1</th>\n",
       "      <td>0.576687</td>\n",
       "      <td>0.544401</td>\n",
       "      <td>0.560721</td>\n",
       "      <td>0.547343</td>\n",
       "      <td>0.576911</td>\n",
       "      <td>0.539376</td>\n",
       "      <td>0.563903</td>\n",
       "      <td>0.549722</td>\n",
       "    </tr>\n",
       "    <tr>\n",
       "      <th>2</th>\n",
       "      <td>0.569635</td>\n",
       "      <td>0.552775</td>\n",
       "      <td>0.564302</td>\n",
       "      <td>0.552628</td>\n",
       "      <td>0.578871</td>\n",
       "      <td>0.547935</td>\n",
       "      <td>0.571802</td>\n",
       "      <td>0.549464</td>\n",
       "    </tr>\n",
       "    <tr>\n",
       "      <th>3</th>\n",
       "      <td>0.537234</td>\n",
       "      <td>0.537248</td>\n",
       "      <td>0.530457</td>\n",
       "      <td>0.520715</td>\n",
       "      <td>0.550139</td>\n",
       "      <td>0.531717</td>\n",
       "      <td>0.539832</td>\n",
       "      <td>0.540033</td>\n",
       "    </tr>\n",
       "    <tr>\n",
       "      <th>4</th>\n",
       "      <td>0.545888</td>\n",
       "      <td>0.544158</td>\n",
       "      <td>0.572670</td>\n",
       "      <td>0.531600</td>\n",
       "      <td>0.562760</td>\n",
       "      <td>0.534340</td>\n",
       "      <td>0.555489</td>\n",
       "      <td>0.534757</td>\n",
       "    </tr>\n",
       "    <tr>\n",
       "      <th>5</th>\n",
       "      <td>0.561494</td>\n",
       "      <td>0.543323</td>\n",
       "      <td>0.565741</td>\n",
       "      <td>0.555672</td>\n",
       "      <td>0.569307</td>\n",
       "      <td>0.551582</td>\n",
       "      <td>0.570604</td>\n",
       "      <td>0.544028</td>\n",
       "    </tr>\n",
       "    <tr>\n",
       "      <th>6</th>\n",
       "      <td>0.567634</td>\n",
       "      <td>0.539992</td>\n",
       "      <td>0.567513</td>\n",
       "      <td>0.549284</td>\n",
       "      <td>0.565658</td>\n",
       "      <td>0.527571</td>\n",
       "      <td>0.560350</td>\n",
       "      <td>0.552631</td>\n",
       "    </tr>\n",
       "    <tr>\n",
       "      <th>7</th>\n",
       "      <td>0.559138</td>\n",
       "      <td>0.541017</td>\n",
       "      <td>0.548847</td>\n",
       "      <td>0.529118</td>\n",
       "      <td>0.541282</td>\n",
       "      <td>0.549503</td>\n",
       "      <td>0.547243</td>\n",
       "      <td>0.535483</td>\n",
       "    </tr>\n",
       "    <tr>\n",
       "      <th>8</th>\n",
       "      <td>0.557041</td>\n",
       "      <td>0.539362</td>\n",
       "      <td>0.563867</td>\n",
       "      <td>0.543075</td>\n",
       "      <td>0.576294</td>\n",
       "      <td>0.533624</td>\n",
       "      <td>0.552839</td>\n",
       "      <td>0.548559</td>\n",
       "    </tr>\n",
       "    <tr>\n",
       "      <th>9</th>\n",
       "      <td>0.568101</td>\n",
       "      <td>0.547569</td>\n",
       "      <td>0.581769</td>\n",
       "      <td>0.544052</td>\n",
       "      <td>0.550483</td>\n",
       "      <td>0.553953</td>\n",
       "      <td>0.569015</td>\n",
       "      <td>0.576383</td>\n",
       "    </tr>\n",
       "  </tbody>\n",
       "</table>\n",
       "</div>"
      ],
      "text/plain": [
       "   5e10_fram  5e10_full  5e6_fram  5e6_full  5e7_fram  5e7_full  5e8_fram  \\\n",
       "0   0.551315   0.547159  0.552312  0.546205  0.556933  0.542133  0.558516   \n",
       "1   0.576687   0.544401  0.560721  0.547343  0.576911  0.539376  0.563903   \n",
       "2   0.569635   0.552775  0.564302  0.552628  0.578871  0.547935  0.571802   \n",
       "3   0.537234   0.537248  0.530457  0.520715  0.550139  0.531717  0.539832   \n",
       "4   0.545888   0.544158  0.572670  0.531600  0.562760  0.534340  0.555489   \n",
       "5   0.561494   0.543323  0.565741  0.555672  0.569307  0.551582  0.570604   \n",
       "6   0.567634   0.539992  0.567513  0.549284  0.565658  0.527571  0.560350   \n",
       "7   0.559138   0.541017  0.548847  0.529118  0.541282  0.549503  0.547243   \n",
       "8   0.557041   0.539362  0.563867  0.543075  0.576294  0.533624  0.552839   \n",
       "9   0.568101   0.547569  0.581769  0.544052  0.550483  0.553953  0.569015   \n",
       "\n",
       "   5e8_full  \n",
       "0  0.534661  \n",
       "1  0.549722  \n",
       "2  0.549464  \n",
       "3  0.540033  \n",
       "4  0.534757  \n",
       "5  0.544028  \n",
       "6  0.552631  \n",
       "7  0.535483  \n",
       "8  0.548559  \n",
       "9  0.576383  "
      ]
     },
     "execution_count": 35,
     "metadata": {},
     "output_type": "execute_result"
    }
   ],
   "source": [
    "df_summary = pd.DataFrame(dict_summary)\n",
    "df_summary.head(10)"
   ]
  },
  {
   "cell_type": "code",
   "execution_count": 38,
   "metadata": {
    "collapsed": true
   },
   "outputs": [],
   "source": [
    "import os \n",
    "\n",
    "df_summary.to_csv(os.path.join('/legodata/zhaoj/cvd_risk_time2/src/dnn/summary.csv'))"
   ]
  },
  {
   "cell_type": "code",
   "execution_count": null,
   "metadata": {
    "collapsed": true
   },
   "outputs": [],
   "source": []
  },
  {
   "cell_type": "code",
   "execution_count": 12,
   "metadata": {},
   "outputs": [
    {
     "name": "stdout",
     "output_type": "stream",
     "text": [
      "0.559416942359\n",
      "0.543700489788\n",
      "Ttest_indResult(statistic=3.8653194985684149, pvalue=0.0011337380759799073)\n"
     ]
    }
   ],
   "source": [
    "for df_1, df_2 in [(df_5e10_full, df_5e10_fram)]: \n",
    "    auc_dict = {'df_1': [], 'df_2': []} \n",
    "    \n",
    "    df_2_avg = 0 \n",
    "    df_1_avg = 0 \n",
    "    \n",
    "    for i in range(10): \n",
    "        \n",
    "        df_2_fold = df_1.loc[df_1['FOLD'] == i]\n",
    "        df_1_fold = df_2.loc[df_2['FOLD'] == i] \n",
    "        df_1_auc = roc_auc_score(df_1_fold['CLASS'], df_1_fold['SCORE'])\n",
    "        df_2_auc = roc_auc_score(df_2_fold['CLASS'], df_2_fold['SCORE']) \n",
    "        \n",
    "        df_1_avg += df_1_auc \n",
    "        df_2_avg += df_2_auc \n",
    "        \n",
    "        auc_dict['df_1'].append(df_1_auc)\n",
    "        auc_dict['df_2'].append(df_2_auc) \n",
    "        \n",
    "    df_1_avg /= 10 \n",
    "    df_2_avg /= 10 \n",
    "    \n",
    "    print(df_1_avg)\n",
    "    print(df_2_avg)\n",
    "    \n",
    "    df_auc = pd.DataFrame(auc_dict)\n",
    "    \n",
    "    print(ttest_ind(auc_dict['df_1'], auc_dict['df_2']))\n",
    "\n",
    "        "
   ]
  },
  {
   "cell_type": "code",
   "execution_count": null,
   "metadata": {
    "collapsed": true
   },
   "outputs": [],
   "source": []
  },
  {
   "cell_type": "code",
   "execution_count": null,
   "metadata": {
    "collapsed": true
   },
   "outputs": [],
   "source": []
  },
  {
   "cell_type": "code",
   "execution_count": null,
   "metadata": {
    "collapsed": true
   },
   "outputs": [],
   "source": []
  },
  {
   "cell_type": "code",
   "execution_count": null,
   "metadata": {
    "collapsed": true
   },
   "outputs": [],
   "source": []
  },
  {
   "cell_type": "code",
   "execution_count": null,
   "metadata": {
    "collapsed": true
   },
   "outputs": [],
   "source": []
  },
  {
   "cell_type": "code",
   "execution_count": null,
   "metadata": {
    "collapsed": true
   },
   "outputs": [],
   "source": []
  },
  {
   "cell_type": "code",
   "execution_count": 8,
   "metadata": {},
   "outputs": [
    {
     "ename": "NameError",
     "evalue": "name 'gbt_full' is not defined",
     "output_type": "error",
     "traceback": [
      "\u001b[0;31m---------------------------------------------------------------------------\u001b[0m",
      "\u001b[0;31mNameError\u001b[0m                                 Traceback (most recent call last)",
      "\u001b[0;32m<ipython-input-8-4414eb14c9a4>\u001b[0m in \u001b[0;36m<module>\u001b[0;34m()\u001b[0m\n\u001b[0;32m----> 1\u001b[0;31m \u001b[0;32mfor\u001b[0m \u001b[0mfull\u001b[0m\u001b[0;34m,\u001b[0m \u001b[0mfram\u001b[0m \u001b[0;32min\u001b[0m \u001b[0;34m[\u001b[0m\u001b[0;34m(\u001b[0m\u001b[0mgbt_full\u001b[0m\u001b[0;34m,\u001b[0m \u001b[0mgbt_true_fram\u001b[0m\u001b[0;34m)\u001b[0m\u001b[0;34m,\u001b[0m \u001b[0;34m(\u001b[0m\u001b[0mlr_full\u001b[0m\u001b[0;34m,\u001b[0m \u001b[0mlr_true_fram\u001b[0m\u001b[0;34m)\u001b[0m\u001b[0;34m,\u001b[0m \u001b[0;34m(\u001b[0m\u001b[0mrf_full\u001b[0m\u001b[0;34m,\u001b[0m \u001b[0mrf_true_fram\u001b[0m\u001b[0;34m)\u001b[0m\u001b[0;34m]\u001b[0m\u001b[0;34m:\u001b[0m\u001b[0;34m\u001b[0m\u001b[0m\n\u001b[0m\u001b[1;32m      2\u001b[0m     \u001b[0mauc_dict\u001b[0m \u001b[0;34m=\u001b[0m \u001b[0;34m{\u001b[0m\u001b[0;34m'full'\u001b[0m\u001b[0;34m:\u001b[0m \u001b[0;34m[\u001b[0m\u001b[0;34m]\u001b[0m\u001b[0;34m,\u001b[0m \u001b[0;34m'fram'\u001b[0m\u001b[0;34m:\u001b[0m \u001b[0;34m[\u001b[0m\u001b[0;34m]\u001b[0m\u001b[0;34m}\u001b[0m\u001b[0;34m\u001b[0m\u001b[0m\n\u001b[1;32m      3\u001b[0m \u001b[0;34m\u001b[0m\u001b[0m\n\u001b[1;32m      4\u001b[0m     \u001b[0mfram_avg\u001b[0m \u001b[0;34m=\u001b[0m \u001b[0;36m0\u001b[0m\u001b[0;34m\u001b[0m\u001b[0m\n\u001b[1;32m      5\u001b[0m     \u001b[0mfull_avg\u001b[0m \u001b[0;34m=\u001b[0m \u001b[0;36m0\u001b[0m\u001b[0;34m\u001b[0m\u001b[0m\n",
      "\u001b[0;31mNameError\u001b[0m: name 'gbt_full' is not defined"
     ]
    }
   ],
   "source": [
    "for full, fram in [(gbt_full, gbt_true_fram), (lr_full, lr_true_fram), (rf_full, rf_true_fram)]: \n",
    "    auc_dict = {'full': [], 'fram': []} \n",
    "    \n",
    "    fram_avg = 0 \n",
    "    full_avg = 0 \n",
    "    \n",
    "    for i in range(10): \n",
    "        fram_fold = full.loc[full['FOLD'] == i]\n",
    "        full_fold = fram.loc[fram['FOLD'] == i] \n",
    "        full_auc = roc_auc_score(full_fold['CLASS'], full_fold['SCORE'])\n",
    "        fram_auc = roc_auc_score(fram_fold['CLASS'], fram_fold['SCORE']) \n",
    "        \n",
    "        full_avg += full_auc \n",
    "        fram_avg += fram_auc \n",
    "        \n",
    "        auc_dict['full'].append(full_auc)\n",
    "        auc_dict['fram'].append(fram_auc) \n",
    "        \n",
    "    full_avg /= 10 \n",
    "    fram_avg /= 10 \n",
    "    \n",
    "    print(full_avg)\n",
    "    print(fram_avg)\n",
    "    \n",
    "    df_auc = pd.DataFrame(auc_dict)\n",
    "    \n",
    "    print(ttest_ind(auc_dict['full'], auc_dict['fram']))\n",
    "\n",
    "        "
   ]
  },
  {
   "cell_type": "code",
   "execution_count": null,
   "metadata": {
    "collapsed": true
   },
   "outputs": [],
   "source": []
  },
  {
   "cell_type": "code",
   "execution_count": null,
   "metadata": {
    "collapsed": true
   },
   "outputs": [],
   "source": []
  }
 ],
 "metadata": {
  "kernelspec": {
   "display_name": "Python (ML)",
   "language": "python",
   "name": "ml"
  },
  "language_info": {
   "codemirror_mode": {
    "name": "ipython",
    "version": 3
   },
   "file_extension": ".py",
   "mimetype": "text/x-python",
   "name": "python",
   "nbconvert_exporter": "python",
   "pygments_lexer": "ipython3",
   "version": "3.6.2"
  }
 },
 "nbformat": 4,
 "nbformat_minor": 2
}
