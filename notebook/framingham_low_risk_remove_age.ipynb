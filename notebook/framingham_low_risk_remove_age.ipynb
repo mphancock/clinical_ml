{
 "cells": [
  {
   "cell_type": "code",
   "execution_count": 52,
   "metadata": {
    "collapsed": true
   },
   "outputs": [],
   "source": [
    "import pandas as pd\n",
    "import numpy as np\n",
    "import seaborn as sns\n",
    "from os import path\n",
    "import matplotlib.pyplot as plt\n",
    "%matplotlib inline\n",
    "data_path = '../data_1_8/'"
   ]
  },
  {
   "cell_type": "code",
   "execution_count": 53,
   "metadata": {},
   "outputs": [
    {
     "data": {
      "text/plain": [
       "(170658, 24)"
      ]
     },
     "execution_count": 53,
     "metadata": {},
     "output_type": "execute_result"
    }
   ],
   "source": [
    "df = pd.read_csv(path.join('../data_1_8/', 'for_framingham/processed/merged_framingham2.csv'))\n",
    "df.shape"
   ]
  },
  {
   "cell_type": "code",
   "execution_count": 54,
   "metadata": {},
   "outputs": [
    {
     "data": {
      "text/html": [
       "<div>\n",
       "<style scoped>\n",
       "    .dataframe tbody tr th:only-of-type {\n",
       "        vertical-align: middle;\n",
       "    }\n",
       "\n",
       "    .dataframe tbody tr th {\n",
       "        vertical-align: top;\n",
       "    }\n",
       "\n",
       "    .dataframe thead th {\n",
       "        text-align: right;\n",
       "    }\n",
       "</style>\n",
       "<table border=\"1\" class=\"dataframe\">\n",
       "  <thead>\n",
       "    <tr style=\"text-align: right;\">\n",
       "      <th></th>\n",
       "      <th>GRID</th>\n",
       "      <th>GENDER</th>\n",
       "      <th>Original_RACE</th>\n",
       "      <th>DOB</th>\n",
       "      <th>FIRST_CVD_DATE</th>\n",
       "      <th>BASELINE</th>\n",
       "      <th>AGE</th>\n",
       "      <th>FIRST_VISIT</th>\n",
       "      <th>LAST_VISIT</th>\n",
       "      <th>DURATION_BF_BASELINE</th>\n",
       "      <th>...</th>\n",
       "      <th>RECENT_VALUE_HDL-C</th>\n",
       "      <th>HTN_DRUG_CNT</th>\n",
       "      <th>T2DM_CNT</th>\n",
       "      <th>Smoking</th>\n",
       "      <th>VISITS_CNT</th>\n",
       "      <th>PHECODES_CNT</th>\n",
       "      <th>CLASS</th>\n",
       "      <th>frs</th>\n",
       "      <th>risk</th>\n",
       "      <th>predict</th>\n",
       "    </tr>\n",
       "  </thead>\n",
       "  <tbody>\n",
       "    <tr>\n",
       "      <th>0</th>\n",
       "      <td>R290108078</td>\n",
       "      <td>M</td>\n",
       "      <td>W</td>\n",
       "      <td>1949</td>\n",
       "      <td>6/1/08</td>\n",
       "      <td>12/1/07</td>\n",
       "      <td>58</td>\n",
       "      <td>00:00.0</td>\n",
       "      <td>30:00.0</td>\n",
       "      <td>2897</td>\n",
       "      <td>...</td>\n",
       "      <td>42.0</td>\n",
       "      <td>0</td>\n",
       "      <td>0</td>\n",
       "      <td>1</td>\n",
       "      <td>1</td>\n",
       "      <td>1</td>\n",
       "      <td>0</td>\n",
       "      <td>61.692284</td>\n",
       "      <td>0.138744</td>\n",
       "      <td>1</td>\n",
       "    </tr>\n",
       "    <tr>\n",
       "      <th>1</th>\n",
       "      <td>R240692237</td>\n",
       "      <td>M</td>\n",
       "      <td>W</td>\n",
       "      <td>1932</td>\n",
       "      <td>3/7/17</td>\n",
       "      <td>9/7/16</td>\n",
       "      <td>84</td>\n",
       "      <td>00:00.0</td>\n",
       "      <td>15:00.0</td>\n",
       "      <td>1947</td>\n",
       "      <td>...</td>\n",
       "      <td>46.0</td>\n",
       "      <td>1</td>\n",
       "      <td>0</td>\n",
       "      <td>0</td>\n",
       "      <td>102</td>\n",
       "      <td>37</td>\n",
       "      <td>0</td>\n",
       "      <td>63.189230</td>\n",
       "      <td>0.486937</td>\n",
       "      <td>1</td>\n",
       "    </tr>\n",
       "    <tr>\n",
       "      <th>2</th>\n",
       "      <td>R277435259</td>\n",
       "      <td>F</td>\n",
       "      <td>W</td>\n",
       "      <td>1951</td>\n",
       "      <td>2/2/14</td>\n",
       "      <td>8/2/13</td>\n",
       "      <td>62</td>\n",
       "      <td>00:00.0</td>\n",
       "      <td>24:00.0</td>\n",
       "      <td>2675</td>\n",
       "      <td>...</td>\n",
       "      <td>56.0</td>\n",
       "      <td>1</td>\n",
       "      <td>0</td>\n",
       "      <td>0</td>\n",
       "      <td>41</td>\n",
       "      <td>13</td>\n",
       "      <td>1</td>\n",
       "      <td>-28.393660</td>\n",
       "      <td>0.072075</td>\n",
       "      <td>0</td>\n",
       "    </tr>\n",
       "    <tr>\n",
       "      <th>3</th>\n",
       "      <td>R269880338</td>\n",
       "      <td>F</td>\n",
       "      <td>W</td>\n",
       "      <td>1956</td>\n",
       "      <td>4/4/17</td>\n",
       "      <td>10/4/16</td>\n",
       "      <td>60</td>\n",
       "      <td>01:01.0</td>\n",
       "      <td>15:00.0</td>\n",
       "      <td>9121</td>\n",
       "      <td>...</td>\n",
       "      <td>81.0</td>\n",
       "      <td>1</td>\n",
       "      <td>0</td>\n",
       "      <td>1</td>\n",
       "      <td>43</td>\n",
       "      <td>43</td>\n",
       "      <td>0</td>\n",
       "      <td>-28.563913</td>\n",
       "      <td>0.061144</td>\n",
       "      <td>0</td>\n",
       "    </tr>\n",
       "    <tr>\n",
       "      <th>4</th>\n",
       "      <td>R272530184</td>\n",
       "      <td>M</td>\n",
       "      <td>W</td>\n",
       "      <td>1965</td>\n",
       "      <td>9/7/16</td>\n",
       "      <td>3/7/16</td>\n",
       "      <td>51</td>\n",
       "      <td>00:00.0</td>\n",
       "      <td>39:00.0</td>\n",
       "      <td>4272</td>\n",
       "      <td>...</td>\n",
       "      <td>63.0</td>\n",
       "      <td>1</td>\n",
       "      <td>0</td>\n",
       "      <td>0</td>\n",
       "      <td>23</td>\n",
       "      <td>19</td>\n",
       "      <td>0</td>\n",
       "      <td>60.505905</td>\n",
       "      <td>0.044580</td>\n",
       "      <td>0</td>\n",
       "    </tr>\n",
       "  </tbody>\n",
       "</table>\n",
       "<p>5 rows × 24 columns</p>\n",
       "</div>"
      ],
      "text/plain": [
       "         GRID GENDER Original_RACE   DOB FIRST_CVD_DATE BASELINE  AGE  \\\n",
       "0  R290108078      M             W  1949         6/1/08  12/1/07   58   \n",
       "1  R240692237      M             W  1932         3/7/17   9/7/16   84   \n",
       "2  R277435259      F             W  1951         2/2/14   8/2/13   62   \n",
       "3  R269880338      F             W  1956         4/4/17  10/4/16   60   \n",
       "4  R272530184      M             W  1965         9/7/16   3/7/16   51   \n",
       "\n",
       "  FIRST_VISIT LAST_VISIT  DURATION_BF_BASELINE   ...    RECENT_VALUE_HDL-C  \\\n",
       "0     00:00.0    30:00.0                  2897   ...                  42.0   \n",
       "1     00:00.0    15:00.0                  1947   ...                  46.0   \n",
       "2     00:00.0    24:00.0                  2675   ...                  56.0   \n",
       "3     01:01.0    15:00.0                  9121   ...                  81.0   \n",
       "4     00:00.0    39:00.0                  4272   ...                  63.0   \n",
       "\n",
       "   HTN_DRUG_CNT  T2DM_CNT  Smoking  VISITS_CNT  PHECODES_CNT  CLASS  \\\n",
       "0             0         0        1           1             1      0   \n",
       "1             1         0        0         102            37      0   \n",
       "2             1         0        0          41            13      1   \n",
       "3             1         0        1          43            43      0   \n",
       "4             1         0        0          23            19      0   \n",
       "\n",
       "         frs      risk  predict  \n",
       "0  61.692284  0.138744        1  \n",
       "1  63.189230  0.486937        1  \n",
       "2 -28.393660  0.072075        0  \n",
       "3 -28.563913  0.061144        0  \n",
       "4  60.505905  0.044580        0  \n",
       "\n",
       "[5 rows x 24 columns]"
      ]
     },
     "execution_count": 54,
     "metadata": {},
     "output_type": "execute_result"
    }
   ],
   "source": [
    "df.head()"
   ]
  },
  {
   "cell_type": "code",
   "execution_count": 55,
   "metadata": {},
   "outputs": [
    {
     "name": "stdout",
     "output_type": "stream",
     "text": [
      "(170658, 22)\n"
     ]
    },
    {
     "data": {
      "text/html": [
       "<div>\n",
       "<style scoped>\n",
       "    .dataframe tbody tr th:only-of-type {\n",
       "        vertical-align: middle;\n",
       "    }\n",
       "\n",
       "    .dataframe tbody tr th {\n",
       "        vertical-align: top;\n",
       "    }\n",
       "\n",
       "    .dataframe thead th {\n",
       "        text-align: right;\n",
       "    }\n",
       "</style>\n",
       "<table border=\"1\" class=\"dataframe\">\n",
       "  <thead>\n",
       "    <tr style=\"text-align: right;\">\n",
       "      <th></th>\n",
       "      <th>GRID</th>\n",
       "      <th>frs_remove_age</th>\n",
       "    </tr>\n",
       "  </thead>\n",
       "  <tbody>\n",
       "    <tr>\n",
       "      <th>0</th>\n",
       "      <td>R290108078</td>\n",
       "      <td>40.590374</td>\n",
       "    </tr>\n",
       "    <tr>\n",
       "      <th>1</th>\n",
       "      <td>R240692237</td>\n",
       "      <td>41.201364</td>\n",
       "    </tr>\n",
       "    <tr>\n",
       "      <th>2</th>\n",
       "      <td>R277435259</td>\n",
       "      <td>27.049878</td>\n",
       "    </tr>\n",
       "    <tr>\n",
       "      <th>3</th>\n",
       "      <td>R269880338</td>\n",
       "      <td>32.227862</td>\n",
       "    </tr>\n",
       "    <tr>\n",
       "      <th>4</th>\n",
       "      <td>R272530184</td>\n",
       "      <td>40.647531</td>\n",
       "    </tr>\n",
       "  </tbody>\n",
       "</table>\n",
       "</div>"
      ],
      "text/plain": [
       "         GRID  frs_remove_age\n",
       "0  R290108078       40.590374\n",
       "1  R240692237       41.201364\n",
       "2  R277435259       27.049878\n",
       "3  R269880338       32.227862\n",
       "4  R272530184       40.647531"
      ]
     },
     "execution_count": 55,
     "metadata": {},
     "output_type": "execute_result"
    }
   ],
   "source": [
    "df_remove_age = pd.read_csv(path.join('../data_1_8/', 'for_framingham/processed/merged_fr_results_remove_age.csv'))\n",
    "print(df_remove_age.shape)\n",
    "df_remove_age = df_remove_age[['GRID','frs']]\n",
    "df_remove_age.rename(columns={'frs':'frs_remove_age'},inplace=True)\n",
    "df_remove_age.head()"
   ]
  },
  {
   "cell_type": "code",
   "execution_count": 58,
   "metadata": {},
   "outputs": [
    {
     "data": {
      "text/plain": [
       "(170658, 25)"
      ]
     },
     "execution_count": 58,
     "metadata": {},
     "output_type": "execute_result"
    }
   ],
   "source": [
    "df_merged = df.merge(df_remove_age)\n",
    "df_merged.shape"
   ]
  },
  {
   "cell_type": "code",
   "execution_count": 59,
   "metadata": {},
   "outputs": [
    {
     "name": "stderr",
     "output_type": "stream",
     "text": [
      "/Users/juan/anaconda/lib/python3.6/site-packages/seaborn/categorical.py:454: FutureWarning: remove_na is deprecated and is a private function. Do not use.\n",
      "  box_data = remove_na(group_data)\n"
     ]
    },
    {
     "data": {
      "text/plain": [
       "<matplotlib.axes._subplots.AxesSubplot at 0x1a20190208>"
      ]
     },
     "execution_count": 59,
     "metadata": {},
     "output_type": "execute_result"
    },
    {
     "data": {
      "image/png": "[encoded data removed]",
      "text/plain": [
       "<matplotlib.figure.Figure at 0x1a1752c898>"
      ]
     },
     "metadata": {},
     "output_type": "display_data"
    }
   ],
   "source": [
    "#original cohort\n",
    "sns.boxplot(y='frs', x ='predict', data=df)"
   ]
  },
  {
   "cell_type": "code",
   "execution_count": 70,
   "metadata": {},
   "outputs": [
    {
     "data": {
      "text/plain": [
       "24.092727111745678"
      ]
     },
     "execution_count": 70,
     "metadata": {},
     "output_type": "execute_result"
    }
   ],
   "source": [
    "df[df['predict']==1]['frs'].mean()"
   ]
  },
  {
   "cell_type": "code",
   "execution_count": 71,
   "metadata": {},
   "outputs": [
    {
     "data": {
      "text/plain": [
       "7.51827481951186"
      ]
     },
     "execution_count": 71,
     "metadata": {},
     "output_type": "execute_result"
    }
   ],
   "source": [
    "df[df['predict']==0]['frs'].mean()"
   ]
  },
  {
   "cell_type": "code",
   "execution_count": 61,
   "metadata": {},
   "outputs": [
    {
     "name": "stderr",
     "output_type": "stream",
     "text": [
      "/Users/juan/anaconda/lib/python3.6/site-packages/seaborn/categorical.py:454: FutureWarning: remove_na is deprecated and is a private function. Do not use.\n",
      "  box_data = remove_na(group_data)\n"
     ]
    },
    {
     "data": {
      "text/plain": [
       "<matplotlib.axes._subplots.AxesSubplot at 0x1a1d89a710>"
      ]
     },
     "execution_count": 61,
     "metadata": {},
     "output_type": "execute_result"
    },
    {
     "data": {
      "image/png": "[encoded data removed]",
      "text/plain": [
       "<matplotlib.figure.Figure at 0x1a1f783f28>"
      ]
     },
     "metadata": {},
     "output_type": "display_data"
    }
   ],
   "source": [
    "#remove age overal\n",
    "sns.boxplot(y='frs_remove_age', x ='predict', data=df_merged)"
   ]
  },
  {
   "cell_type": "code",
   "execution_count": 42,
   "metadata": {},
   "outputs": [
    {
     "data": {
      "text/plain": [
       "35.61229881193719"
      ]
     },
     "execution_count": 42,
     "metadata": {},
     "output_type": "execute_result"
    }
   ],
   "source": [
    "df_merged[df_merged['predict']==1]['frs_remove_age'].mean()"
   ]
  },
  {
   "cell_type": "code",
   "execution_count": 43,
   "metadata": {},
   "outputs": [
    {
     "data": {
      "text/plain": [
       "34.181651772196105"
      ]
     },
     "execution_count": 43,
     "metadata": {},
     "output_type": "execute_result"
    }
   ],
   "source": [
    "df_merged[df_merged['predict']==0]['frs_remove_age'].mean()"
   ]
  },
  {
   "cell_type": "code",
   "execution_count": 65,
   "metadata": {},
   "outputs": [
    {
     "name": "stderr",
     "output_type": "stream",
     "text": [
      "/Users/juan/anaconda/lib/python3.6/site-packages/seaborn/categorical.py:454: FutureWarning: remove_na is deprecated and is a private function. Do not use.\n",
      "  box_data = remove_na(group_data)\n"
     ]
    },
    {
     "data": {
      "text/plain": [
       "<matplotlib.axes._subplots.AxesSubplot at 0x1a2153b5c0>"
      ]
     },
     "execution_count": 65,
     "metadata": {},
     "output_type": "execute_result"
    },
    {
     "data": {
      "image/png": "[encoded data removed]",
      "text/plain": [
       "<matplotlib.figure.Figure at 0x1a21d3dcf8>"
      ]
     },
     "metadata": {},
     "output_type": "display_data"
    }
   ],
   "source": [
    "#original cohort white man\n",
    "sns.boxplot(y='frs', x ='predict', data=df[(df['GENDER']=='M') & (df['RACE']=='W')])"
   ]
  },
  {
   "cell_type": "code",
   "execution_count": 66,
   "metadata": {},
   "outputs": [
    {
     "name": "stderr",
     "output_type": "stream",
     "text": [
      "/Users/juan/anaconda/lib/python3.6/site-packages/seaborn/categorical.py:454: FutureWarning: remove_na is deprecated and is a private function. Do not use.\n",
      "  box_data = remove_na(group_data)\n"
     ]
    },
    {
     "data": {
      "text/plain": [
       "<matplotlib.axes._subplots.AxesSubplot at 0x1a20c95710>"
      ]
     },
     "execution_count": 66,
     "metadata": {},
     "output_type": "execute_result"
    },
    {
     "data": {
      "image/png": "[encoded data removed]",
      "text/plain": [
       "<matplotlib.figure.Figure at 0x1a21eee080>"
      ]
     },
     "metadata": {},
     "output_type": "display_data"
    }
   ],
   "source": [
    "#remove age white man\n",
    "sns.boxplot(y='frs_remove_age', x ='predict', data=df_merged[(df_merged['GENDER']=='M') & (df_merged['RACE']=='W')])"
   ]
  },
  {
   "cell_type": "code",
   "execution_count": 67,
   "metadata": {},
   "outputs": [
    {
     "name": "stderr",
     "output_type": "stream",
     "text": [
      "/Users/juan/anaconda/lib/python3.6/site-packages/seaborn/categorical.py:454: FutureWarning: remove_na is deprecated and is a private function. Do not use.\n",
      "  box_data = remove_na(group_data)\n"
     ]
    },
    {
     "data": {
      "text/plain": [
       "<matplotlib.axes._subplots.AxesSubplot at 0x1a21531198>"
      ]
     },
     "execution_count": 67,
     "metadata": {},
     "output_type": "execute_result"
    },
    {
     "data": {
      "image/png": "[encoded data removed]",
      "text/plain": [
       "<matplotlib.figure.Figure at 0x1a20c6c630>"
      ]
     },
     "metadata": {},
     "output_type": "display_data"
    }
   ],
   "source": [
    "#original white women\n",
    "sns.boxplot(y='frs', x ='predict', data=df[(df['GENDER']=='F') & (df['RACE']=='W')])"
   ]
  },
  {
   "cell_type": "code",
   "execution_count": 46,
   "metadata": {},
   "outputs": [
    {
     "name": "stderr",
     "output_type": "stream",
     "text": [
      "/Users/juan/anaconda/lib/python3.6/site-packages/seaborn/categorical.py:454: FutureWarning: remove_na is deprecated and is a private function. Do not use.\n",
      "  box_data = remove_na(group_data)\n"
     ]
    },
    {
     "data": {
      "text/plain": [
       "<matplotlib.axes._subplots.AxesSubplot at 0x1a1f5b6ba8>"
      ]
     },
     "execution_count": 46,
     "metadata": {},
     "output_type": "execute_result"
    },
    {
     "data": {
      "image/png": "[encoded data removed]",
      "text/plain": [
       "<matplotlib.figure.Figure at 0x1a1edf8518>"
      ]
     },
     "metadata": {},
     "output_type": "display_data"
    }
   ],
   "source": [
    "#remove age white women\n",
    "sns.boxplot(y='frs_remove_age', x ='predict', data=df_merged[(df_merged['GENDER']=='F') & (df_merged['RACE']=='W')])"
   ]
  },
  {
   "cell_type": "code",
   "execution_count": 28,
   "metadata": {},
   "outputs": [
    {
     "name": "stderr",
     "output_type": "stream",
     "text": [
      "/Users/juan/anaconda/lib/python3.6/site-packages/seaborn/categorical.py:454: FutureWarning: remove_na is deprecated and is a private function. Do not use.\n",
      "  box_data = remove_na(group_data)\n"
     ]
    },
    {
     "data": {
      "text/plain": [
       "<matplotlib.axes._subplots.AxesSubplot at 0x1a19cc5710>"
      ]
     },
     "execution_count": 28,
     "metadata": {},
     "output_type": "execute_result"
    },
    {
     "data": {
      "image/png": "[encoded data removed]",
      "text/plain": [
       "<matplotlib.figure.Figure at 0x1a196e6cf8>"
      ]
     },
     "metadata": {},
     "output_type": "display_data"
    }
   ],
   "source": [
    "#orginal black man\n",
    "sns.boxplot(y='frs', x ='predict', data=df[(df['GENDER']=='M') & (df['RACE']=='B')])"
   ]
  },
  {
   "cell_type": "code",
   "execution_count": 45,
   "metadata": {},
   "outputs": [
    {
     "name": "stderr",
     "output_type": "stream",
     "text": [
      "/Users/juan/anaconda/lib/python3.6/site-packages/seaborn/categorical.py:454: FutureWarning: remove_na is deprecated and is a private function. Do not use.\n",
      "  box_data = remove_na(group_data)\n"
     ]
    },
    {
     "data": {
      "text/plain": [
       "<matplotlib.axes._subplots.AxesSubplot at 0x1a1ee224a8>"
      ]
     },
     "execution_count": 45,
     "metadata": {},
     "output_type": "execute_result"
    },
    {
     "data": {
      "image/png": "[encoded data removed]",
      "text/plain": [
       "<matplotlib.figure.Figure at 0x1a175badd8>"
      ]
     },
     "metadata": {},
     "output_type": "display_data"
    }
   ],
   "source": [
    "#remove age black man\n",
    "sns.boxplot(y='frs_remove_age', x ='predict', data=df_merged[(df_merged['GENDER']=='M') & (df_merged['RACE']=='B')])"
   ]
  },
  {
   "cell_type": "code",
   "execution_count": 30,
   "metadata": {},
   "outputs": [
    {
     "name": "stderr",
     "output_type": "stream",
     "text": [
      "/Users/juan/anaconda/lib/python3.6/site-packages/seaborn/categorical.py:454: FutureWarning: remove_na is deprecated and is a private function. Do not use.\n",
      "  box_data = remove_na(group_data)\n"
     ]
    },
    {
     "data": {
      "text/plain": [
       "<matplotlib.axes._subplots.AxesSubplot at 0x1a1959c198>"
      ]
     },
     "execution_count": 30,
     "metadata": {},
     "output_type": "execute_result"
    },
    {
     "data": {
      "image/png": "[encoded data removed]",
      "text/plain": [
       "<matplotlib.figure.Figure at 0x1a17484128>"
      ]
     },
     "metadata": {},
     "output_type": "display_data"
    }
   ],
   "source": [
    "#orginal black women\n",
    "sns.boxplot(y='frs', x ='predict', data=df[(df['GENDER']=='F') & (df['RACE']=='B')])"
   ]
  },
  {
   "cell_type": "code",
   "execution_count": 47,
   "metadata": {},
   "outputs": [
    {
     "name": "stderr",
     "output_type": "stream",
     "text": [
      "/Users/juan/anaconda/lib/python3.6/site-packages/seaborn/categorical.py:454: FutureWarning: remove_na is deprecated and is a private function. Do not use.\n",
      "  box_data = remove_na(group_data)\n"
     ]
    },
    {
     "data": {
      "text/plain": [
       "<matplotlib.axes._subplots.AxesSubplot at 0x1a1f2a4080>"
      ]
     },
     "execution_count": 47,
     "metadata": {},
     "output_type": "execute_result"
    },
    {
     "data": {
      "image/png": "[encoded data removed]",
      "text/plain": [
       "<matplotlib.figure.Figure at 0x1a1f3d8d30>"
      ]
     },
     "metadata": {},
     "output_type": "display_data"
    }
   ],
   "source": [
    "#orginal black men\n",
    "sns.boxplot(y='frs_remove_age', x ='predict', data=df_merged[(df_merged['GENDER']=='F') & (df_merged['RACE']=='B')])"
   ]
  }
 ],
 "metadata": {
  "kernelspec": {
   "display_name": "Python 3",
   "language": "python",
   "name": "python3"
  },
  "language_info": {
   "codemirror_mode": {
    "name": "ipython",
    "version": 3.0
   },
   "file_extension": ".py",
   "mimetype": "text/x-python",
   "name": "python",
   "nbconvert_exporter": "python",
   "pygments_lexer": "ipython3",
   "version": "3.6.1"
  }
 },
 "nbformat": 4,
 "nbformat_minor": 0
}