{
 "cells": [
  {
   "cell_type": "code",
   "execution_count": 1,
   "metadata": {
    "collapsed": true
   },
   "outputs": [],
   "source": [
    "from scipy.stats import ttest_ind\n",
    "from sklearn.metrics import roc_auc_score"
   ]
  },
  {
   "cell_type": "code",
   "execution_count": 2,
   "metadata": {
    "collapsed": true
   },
   "outputs": [],
   "source": [
    "import pandas as pd"
   ]
  },
  {
   "cell_type": "code",
   "execution_count": 3,
   "metadata": {
    "collapsed": true
   },
   "outputs": [],
   "source": [
    "df_5e6_fram = pd.read_csv('/legodata/zhaoj/cvd_risk_time2/src/dnn/results/exp1/5e6_fram_pred.csv')\n",
    "df_5e7_fram = pd.read_csv('/legodata/zhaoj/cvd_risk_time2/src/dnn/results/exp1/5e7_fram_pred.csv')\n",
    "df_5e8_fram = pd.read_csv('/legodata/zhaoj/cvd_risk_time2/src/dnn/results/exp1/5e8_fram_pred.csv')\n",
    "df_5e10_fram = pd.read_csv('/legodata/zhaoj/cvd_risk_time2/src/dnn/results/exp1/5e10_fram_pred.csv')\n",
    "\n",
    "df_5e6_full = pd.read_csv('/legodata/zhaoj/cvd_risk_time2/src/dnn/results/exp1/5e6_full_pred.csv')\n",
    "df_5e7_full = pd.read_csv('/legodata/zhaoj/cvd_risk_time2/src/dnn/results/exp1/5e7_full_pred.csv')\n",
    "df_5e8_full = pd.read_csv('/legodata/zhaoj/cvd_risk_time2/src/dnn/results/exp1/5e8_full_pred.csv')\n",
    "df_5e10_full = pd.read_csv('/legodata/zhaoj/cvd_risk_time2/src/dnn/results/exp1/5e10_full_pred.csv')\n",
    "\n",
    "full_dict = {'5e6': df_5e6_full, '5e7': df_5e7_full, '5e8': df_5e8_full, '5e10': df_5e10_full}\n",
    "fram_dict = {'5e6': df_5e6_fram, '5e7': df_5e7_fram, '5e8': df_5e8_fram, '5e10': df_5e10_fram}\n"
   ]
  },
  {
   "cell_type": "code",
   "execution_count": 4,
   "metadata": {
    "scrolled": false
   },
   "outputs": [
    {
     "name": "stdout",
     "output_type": "stream",
     "text": [
      "0.557379796415\n",
      "0.561286826806\n",
      "0.557841448459\n",
      "0.558858852001\n"
     ]
    }
   ],
   "source": [
    "for df_pred in [df_5e6_fram, df_5e7_fram, df_5e8_fram, df_5e10_fram]:\n",
    "    print(roc_auc_score(df_pred['CLASS'], df_pred['SCORE']))"
   ]
  },
  {
   "cell_type": "code",
   "execution_count": 5,
   "metadata": {
    "collapsed": true
   },
   "outputs": [],
   "source": [
    "dict_summary = dict() "
   ]
  },
  {
   "cell_type": "code",
   "execution_count": 6,
   "metadata": {
    "scrolled": false
   },
   "outputs": [
    {
     "name": "stdout",
     "output_type": "stream",
     "text": [
      "0.560819990626\n",
      "0.5628638653\n",
      "0.558959294848\n",
      "0.559416942359\n"
     ]
    }
   ],
   "source": [
    "for thresh in ['5e6', '5e7', '5e8', '5e10']:\n",
    "    avg_auc = 0 \n",
    "    df_pred = fram_dict[thresh]\n",
    "    \n",
    "    dict_summary['{}_fram'.format(thresh)] = list()\n",
    "    \n",
    "    for i in range(10): \n",
    "        df_pred_fold = df_pred.loc[df_pred['FOLD'] == i]\n",
    "        roc_auc = roc_auc_score(df_pred_fold['CLASS'], df_pred_fold['SCORE'])\n",
    "        \n",
    "        dict_summary['{}_fram'.format(thresh)].append(roc_auc)\n",
    "        avg_auc += roc_auc \n",
    "    \n",
    "    print(avg_auc / 10)"
   ]
  },
  {
   "cell_type": "code",
   "execution_count": 7,
   "metadata": {},
   "outputs": [
    {
     "name": "stdout",
     "output_type": "stream",
     "text": [
      "0.541968895882\n",
      "0.541173377802\n",
      "0.546572086245\n",
      "0.543700489788\n"
     ]
    }
   ],
   "source": [
    "for thresh in ['5e6', '5e7', '5e8', '5e10']:\n",
    "    avg_auc = 0 \n",
    "    df_pred = full_dict[thresh]\n",
    "    \n",
    "    dict_summary['{}_full'.format(thresh)] = list()\n",
    "    \n",
    "    for i in range(10): \n",
    "        df_pred_fold = df_pred.loc[df_pred['FOLD'] == i]\n",
    "        roc_auc = roc_auc_score(df_pred_fold['CLASS'], df_pred_fold['SCORE'])\n",
    "        \n",
    "        dict_summary['{}_full'.format(thresh)].append(roc_auc)\n",
    "        avg_auc += roc_auc \n",
    "    \n",
    "    print(avg_auc / 10)"
   ]
  },
  {
   "cell_type": "code",
   "execution_count": 11,
   "metadata": {
    "scrolled": false
   },
   "outputs": [
    {
     "name": "stdout",
     "output_type": "stream",
     "text": [
      "5e10_fram\n",
      "0.559416942359\n",
      "0.012001811252349975\n",
      "5e10_full\n",
      "0.543700489788\n",
      "0.0046131792041774625\n",
      "5e6_fram\n",
      "0.560819990626\n",
      "0.014170922999063057\n",
      "5e6_full\n",
      "0.541968895882\n",
      "0.011213481757557523\n",
      "5e7_fram\n",
      "0.5628638653\n",
      "0.012907412502617859\n",
      "5e7_full\n",
      "0.541173377802\n",
      "0.009243803694011685\n",
      "5e8_fram\n",
      "0.558959294848\n",
      "0.01043929919755111\n",
      "5e8_full\n",
      "0.546572086245\n",
      "0.01247789711905685\n"
     ]
    }
   ],
   "source": [
    "df_summary = pd.DataFrame(dict_summary)\n",
    "df_summary.head(10)\n",
    "\n",
    "import statistics \n",
    "\n",
    "for col in list(df_summary.columns): \n",
    "    auc_list = df_summary[col]\n",
    "    print(col)\n",
    "    print(statistics.mean(auc_list))\n",
    "    print(statistics.stdev(auc_list))\n",
    "    "
   ]
  },
  {
   "cell_type": "code",
   "execution_count": null,
   "metadata": {
    "collapsed": true
   },
   "outputs": [],
   "source": [
    "import os \n",
    "\n",
    "df_summary.to_csv(os.path.join('/legodata/zhaoj/cvd_risk_time2/src/dnn/summary.csv'))"
   ]
  },
  {
   "cell_type": "code",
   "execution_count": null,
   "metadata": {
    "collapsed": true
   },
   "outputs": [],
   "source": []
  },
  {
   "cell_type": "code",
   "execution_count": 15,
   "metadata": {},
   "outputs": [
    {
     "name": "stdout",
     "output_type": "stream",
     "text": [
      "0.560819990626\n",
      "0.541968895882\n",
      "Ttest_indResult(statistic=3.2988071197073334, pvalue=0.0039918037930929883)\n"
     ]
    }
   ],
   "source": [
    "for df_1, df_2 in [(df_5e6_full, df_5e6_fram)]: \n",
    "    auc_dict = {'df_1': [], 'df_2': []} \n",
    "    \n",
    "    df_2_avg = 0 \n",
    "    df_1_avg = 0 \n",
    "    \n",
    "    for i in range(10): \n",
    "        \n",
    "        df_2_fold = df_1.loc[df_1['FOLD'] == i]\n",
    "        df_1_fold = df_2.loc[df_2['FOLD'] == i] \n",
    "        df_1_auc = roc_auc_score(df_1_fold['CLASS'], df_1_fold['SCORE'])\n",
    "        df_2_auc = roc_auc_score(df_2_fold['CLASS'], df_2_fold['SCORE']) \n",
    "        \n",
    "        df_1_avg += df_1_auc \n",
    "        df_2_avg += df_2_auc \n",
    "        \n",
    "        auc_dict['df_1'].append(df_1_auc)\n",
    "        auc_dict['df_2'].append(df_2_auc) \n",
    "        \n",
    "    df_1_avg /= 10 \n",
    "    df_2_avg /= 10 \n",
    "    \n",
    "    print(df_1_avg)\n",
    "    print(df_2_avg)\n",
    "    \n",
    "    df_auc = pd.DataFrame(auc_dict)\n",
    "    \n",
    "    print(ttest_ind(auc_dict['df_1'], auc_dict['df_2']))\n",
    "\n",
    "        "
   ]
  },
  {
   "cell_type": "code",
   "execution_count": null,
   "metadata": {
    "collapsed": true
   },
   "outputs": [],
   "source": []
  },
  {
   "cell_type": "code",
   "execution_count": null,
   "metadata": {
    "collapsed": true
   },
   "outputs": [],
   "source": []
  },
  {
   "cell_type": "code",
   "execution_count": null,
   "metadata": {
    "collapsed": true
   },
   "outputs": [],
   "source": []
  },
  {
   "cell_type": "code",
   "execution_count": null,
   "metadata": {
    "collapsed": true
   },
   "outputs": [],
   "source": []
  },
  {
   "cell_type": "code",
   "execution_count": null,
   "metadata": {
    "collapsed": true
   },
   "outputs": [],
   "source": []
  },
  {
   "cell_type": "code",
   "execution_count": null,
   "metadata": {
    "collapsed": true
   },
   "outputs": [],
   "source": []
  },
  {
   "cell_type": "code",
   "execution_count": 8,
   "metadata": {},
   "outputs": [
    {
     "ename": "NameError",
     "evalue": "name 'gbt_full' is not defined",
     "output_type": "error",
     "traceback": [
      "\u001b[0;31m---------------------------------------------------------------------------\u001b[0m",
      "\u001b[0;31mNameError\u001b[0m                                 Traceback (most recent call last)",
      "\u001b[0;32m<ipython-input-8-4414eb14c9a4>\u001b[0m in \u001b[0;36m<module>\u001b[0;34m()\u001b[0m\n\u001b[0;32m----> 1\u001b[0;31m \u001b[0;32mfor\u001b[0m \u001b[0mfull\u001b[0m\u001b[0;34m,\u001b[0m \u001b[0mfram\u001b[0m \u001b[0;32min\u001b[0m \u001b[0;34m[\u001b[0m\u001b[0;34m(\u001b[0m\u001b[0mgbt_full\u001b[0m\u001b[0;34m,\u001b[0m \u001b[0mgbt_true_fram\u001b[0m\u001b[0;34m)\u001b[0m\u001b[0;34m,\u001b[0m \u001b[0;34m(\u001b[0m\u001b[0mlr_full\u001b[0m\u001b[0;34m,\u001b[0m \u001b[0mlr_true_fram\u001b[0m\u001b[0;34m)\u001b[0m\u001b[0;34m,\u001b[0m \u001b[0;34m(\u001b[0m\u001b[0mrf_full\u001b[0m\u001b[0;34m,\u001b[0m \u001b[0mrf_true_fram\u001b[0m\u001b[0;34m)\u001b[0m\u001b[0;34m]\u001b[0m\u001b[0;34m:\u001b[0m\u001b[0;34m\u001b[0m\u001b[0m\n\u001b[0m\u001b[1;32m      2\u001b[0m     \u001b[0mauc_dict\u001b[0m \u001b[0;34m=\u001b[0m \u001b[0;34m{\u001b[0m\u001b[0;34m'full'\u001b[0m\u001b[0;34m:\u001b[0m \u001b[0;34m[\u001b[0m\u001b[0;34m]\u001b[0m\u001b[0;34m,\u001b[0m \u001b[0;34m'fram'\u001b[0m\u001b[0;34m:\u001b[0m \u001b[0;34m[\u001b[0m\u001b[0;34m]\u001b[0m\u001b[0;34m}\u001b[0m\u001b[0;34m\u001b[0m\u001b[0m\n\u001b[1;32m      3\u001b[0m \u001b[0;34m\u001b[0m\u001b[0m\n\u001b[1;32m      4\u001b[0m     \u001b[0mfram_avg\u001b[0m \u001b[0;34m=\u001b[0m \u001b[0;36m0\u001b[0m\u001b[0;34m\u001b[0m\u001b[0m\n\u001b[1;32m      5\u001b[0m     \u001b[0mfull_avg\u001b[0m \u001b[0;34m=\u001b[0m \u001b[0;36m0\u001b[0m\u001b[0;34m\u001b[0m\u001b[0m\n",
      "\u001b[0;31mNameError\u001b[0m: name 'gbt_full' is not defined"
     ]
    }
   ],
   "source": [
    "for full, fram in [(gbt_full, gbt_true_fram), (lr_full, lr_true_fram), (rf_full, rf_true_fram)]: \n",
    "    auc_dict = {'full': [], 'fram': []} \n",
    "    \n",
    "    fram_avg = 0 \n",
    "    full_avg = 0 \n",
    "    \n",
    "    for i in range(10): \n",
    "        fram_fold = full.loc[full['FOLD'] == i]\n",
    "        full_fold = fram.loc[fram['FOLD'] == i] \n",
    "        full_auc = roc_auc_score(full_fold['CLASS'], full_fold['SCORE'])\n",
    "        fram_auc = roc_auc_score(fram_fold['CLASS'], fram_fold['SCORE']) \n",
    "        \n",
    "        full_avg += full_auc \n",
    "        fram_avg += fram_auc \n",
    "        \n",
    "        auc_dict['full'].append(full_auc)\n",
    "        auc_dict['fram'].append(fram_auc) \n",
    "        \n",
    "    full_avg /= 10 \n",
    "    fram_avg /= 10 \n",
    "    \n",
    "    print(full_avg)\n",
    "    print(fram_avg)\n",
    "    \n",
    "    df_auc = pd.DataFrame(auc_dict)\n",
    "    \n",
    "    print(ttest_ind(auc_dict['full'], auc_dict['fram']))\n",
    "\n",
    "        "
   ]
  },
  {
   "cell_type": "code",
   "execution_count": null,
   "metadata": {
    "collapsed": true
   },
   "outputs": [],
   "source": []
  },
  {
   "cell_type": "code",
   "execution_count": null,
   "metadata": {
    "collapsed": true
   },
   "outputs": [],
   "source": []
  }
 ],
 "metadata": {
  "kernelspec": {
   "display_name": "Python (ML)",
   "language": "python",
   "name": "ml"
  },
  "language_info": {
   "codemirror_mode": {
    "name": "ipython",
    "version": 3
   },
   "file_extension": ".py",
   "mimetype": "text/x-python",
   "name": "python",
   "nbconvert_exporter": "python",
   "pygments_lexer": "ipython3",
   "version": "3.6.2"
  }
 },
 "nbformat": 4,
 "nbformat_minor": 2
}
