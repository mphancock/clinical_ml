{
 "cells": [
  {
   "cell_type": "code",
   "execution_count": 1,
   "metadata": {
    "collapsed": true
   },
   "outputs": [],
   "source": [
    "import pandas as pd \n",
    "import os \n",
    "\n",
    "csv_path = '/legodata/zhaoj/cvd_risk_time2/src/ML/csv' \n",
    "\n",
    "model = 'lr'\n",
    "name = '' \n",
    "folder = 'bench_7'\n",
    "\n",
    "folder = 'bench_7'"
   ]
  },
  {
   "cell_type": "code",
   "execution_count": 2,
   "metadata": {
    "collapsed": true
   },
   "outputs": [],
   "source": [
    "# from sklearn.metrics import roc_auc_score\n",
    "# for file in os.listdir(os.path.join(csv_path, 'bench_5')):\n",
    "#     if 'pred' in file and 'gbt' in file and 'fram' in file:\n",
    "#         df_pred = pd.read_csv(os.path.join(csv_path, 'bench_5', file))\n",
    "#         print(file, '\\t', roc_auc_score(df_pred['CLASS'], df_pred['SCORE']), '\\t', len(df_pred.loc[df_pred['PRED'] == 1]))"
   ]
  },
  {
   "cell_type": "code",
   "execution_count": 3,
   "metadata": {
    "collapsed": true
   },
   "outputs": [],
   "source": [
    "df_fram_pred = pd.read_csv(os.path.join(csv_path, folder, '{}_pred_{}{}.csv'.format(model, 'fram', name)))\n",
    "df_fram_feat = pd.read_csv(os.path.join(csv_path, folder, '{}_feat_{}{}.csv'.format(model, 'fram', name)))\n",
    "\n",
    "df_full_pred = pd.read_csv(os.path.join(csv_path, folder, '{}_pred_{}{}.csv'.format(model, 'full', name)))\n",
    "df_full_feat = pd.read_csv(os.path.join(csv_path, folder, '{}_feat_{}{}.csv'.format(model, 'full', name)))\n",
    "\n",
    "df_true_fram_pred = pd.read_csv(os.path.join(csv_path, folder, '{}_pred_{}{}.csv'.format(model, 'true_fram', name)))\n",
    "df_true_fram_feat = pd.read_csv(os.path.join(csv_path, folder, '{}_feat_{}{}.csv'.format(model, 'true_fram', name)))\n",
    "\n",
    "# print('# of predictions:\\t{}'.format(len(df_pred)))\n",
    "# print('# of features:\\t\\t{}'.format(len(df_feat)))\n",
    "# print('# of pos pred:\\t{}'.format(len(df_pred.loc[df_pred['PRED'] == 1])))\n",
    "\n",
    "# if model == 'rf': \n",
    "#     df_pred['SCORE'] = df_pred['PROB(1)']"
   ]
  },
  {
   "cell_type": "code",
   "execution_count": 80,
   "metadata": {
    "collapsed": true,
    "scrolled": false
   },
   "outputs": [],
   "source": [
    "# df_pred_fram = df_pred.loc[df_pred['predict'] == 0]\n",
    "# df_pred_fram.head()"
   ]
  },
  {
   "cell_type": "code",
   "execution_count": 9,
   "metadata": {},
   "outputs": [
    {
     "data": {
      "text/html": [
       "<div>\n",
       "<style>\n",
       "    .dataframe thead tr:only-child th {\n",
       "        text-align: right;\n",
       "    }\n",
       "\n",
       "    .dataframe thead th {\n",
       "        text-align: left;\n",
       "    }\n",
       "\n",
       "    .dataframe tbody tr th {\n",
       "        vertical-align: top;\n",
       "    }\n",
       "</style>\n",
       "<table border=\"1\" class=\"dataframe\">\n",
       "  <thead>\n",
       "    <tr style=\"text-align: right;\">\n",
       "      <th></th>\n",
       "      <th>GRID</th>\n",
       "      <th>PRED</th>\n",
       "      <th>PROB(0)</th>\n",
       "      <th>PROB(1)</th>\n",
       "      <th>CLASS</th>\n",
       "      <th>SCORE</th>\n",
       "      <th>FOLD</th>\n",
       "    </tr>\n",
       "  </thead>\n",
       "  <tbody>\n",
       "    <tr>\n",
       "      <th>0</th>\n",
       "      <td>R200000399</td>\n",
       "      <td>1</td>\n",
       "      <td>0.425182</td>\n",
       "      <td>0.574818</td>\n",
       "      <td>0</td>\n",
       "      <td>0.301535</td>\n",
       "      <td>0</td>\n",
       "    </tr>\n",
       "    <tr>\n",
       "      <th>1</th>\n",
       "      <td>R200001457</td>\n",
       "      <td>0</td>\n",
       "      <td>0.579957</td>\n",
       "      <td>0.420043</td>\n",
       "      <td>1</td>\n",
       "      <td>-0.322596</td>\n",
       "      <td>0</td>\n",
       "    </tr>\n",
       "    <tr>\n",
       "      <th>2</th>\n",
       "      <td>R200003102</td>\n",
       "      <td>1</td>\n",
       "      <td>0.299399</td>\n",
       "      <td>0.700601</td>\n",
       "      <td>1</td>\n",
       "      <td>0.850160</td>\n",
       "      <td>0</td>\n",
       "    </tr>\n",
       "    <tr>\n",
       "      <th>3</th>\n",
       "      <td>R200003682</td>\n",
       "      <td>0</td>\n",
       "      <td>0.668883</td>\n",
       "      <td>0.331117</td>\n",
       "      <td>1</td>\n",
       "      <td>-0.703139</td>\n",
       "      <td>0</td>\n",
       "    </tr>\n",
       "    <tr>\n",
       "      <th>4</th>\n",
       "      <td>R200007283</td>\n",
       "      <td>0</td>\n",
       "      <td>0.652203</td>\n",
       "      <td>0.347797</td>\n",
       "      <td>0</td>\n",
       "      <td>-0.628739</td>\n",
       "      <td>0</td>\n",
       "    </tr>\n",
       "  </tbody>\n",
       "</table>\n",
       "</div>"
      ],
      "text/plain": [
       "         GRID  PRED   PROB(0)   PROB(1)  CLASS     SCORE  FOLD\n",
       "0  R200000399     1  0.425182  0.574818      0  0.301535     0\n",
       "1  R200001457     0  0.579957  0.420043      1 -0.322596     0\n",
       "2  R200003102     1  0.299399  0.700601      1  0.850160     0\n",
       "3  R200003682     0  0.668883  0.331117      1 -0.703139     0\n",
       "4  R200007283     0  0.652203  0.347797      0 -0.628739     0"
      ]
     },
     "execution_count": 9,
     "metadata": {},
     "output_type": "execute_result"
    }
   ],
   "source": [
    "df_full_pred.head()"
   ]
  },
  {
   "cell_type": "code",
   "execution_count": 10,
   "metadata": {},
   "outputs": [
    {
     "name": "stdout",
     "output_type": "stream",
     "text": [
      "18962\n"
     ]
    }
   ],
   "source": [
    "print(len(df_full_pred.loc[(df_full_pred['CLASS'] == 1)]))"
   ]
  },
  {
   "cell_type": "code",
   "execution_count": 81,
   "metadata": {},
   "outputs": [
    {
     "name": "stdout",
     "output_type": "stream",
     "text": [
      " \n",
      "FRAM\n",
      "             precision    recall  f1-score   support\n",
      "\n",
      "          0       0.92      0.76      0.84     82976\n",
      "          1       0.21      0.50      0.29     10372\n",
      "\n",
      "avg / total       0.84      0.73      0.77     93348\n",
      "\n",
      "TRUE FRAM\n",
      "             precision    recall  f1-score   support\n",
      "\n",
      "          0       0.93      0.76      0.84     53512\n",
      "          1       0.23      0.57      0.33      6689\n",
      "\n",
      "avg / total       0.86      0.74      0.78     60201\n",
      "\n",
      "FULL\n",
      "             precision    recall  f1-score   support\n",
      "\n",
      "          0       0.93      0.74      0.82    151696\n",
      "          1       0.22      0.58      0.31     18962\n",
      "\n",
      "avg / total       0.85      0.72      0.77    170658\n",
      "\n"
     ]
    }
   ],
   "source": [
    "from sklearn.metrics import roc_auc_score, classification_report\n",
    "\n",
    "print(classification_report(df_full_pred['CLASS'], df_full_pred['PRED'])[1])\n",
    "\n",
    "print('FRAM') \n",
    "print(classification_report(df_fram_pred['CLASS'], df_fram_pred['PRED']))\n",
    "print('TRUE FRAM') \n",
    "print(classification_report(df_true_fram_pred['CLASS'], df_true_fram_pred['PRED']))\n",
    "print('FULL')\n",
    "print(classification_report(df_full_pred['CLASS'], df_full_pred['PRED']))\n",
    "\n",
    "# print(classification_report(df_pred_fram['CLASS'], df_pred_fram['PRED']))"
   ]
  },
  {
   "cell_type": "code",
   "execution_count": 82,
   "metadata": {
    "scrolled": true
   },
   "outputs": [
    {
     "name": "stdout",
     "output_type": "stream",
     "text": [
      "FRAM:\t\t0.6804217564747952\n",
      "TRUE FRAM:\t0.7021741187242501\n",
      "FULL:\t\t0.7025559480212012\n"
     ]
    }
   ],
   "source": [
    "print('FRAM:\\t\\t{}'.format(roc_auc_score(df_fram_pred['CLASS'], df_fram_pred['SCORE'])))\n",
    "print('TRUE FRAM:\\t{}'.format(roc_auc_score(df_true_fram_pred['CLASS'], df_true_fram_pred['SCORE'])))\n",
    "print('FULL:\\t\\t{}'.format(roc_auc_score(df_full_pred['CLASS'], df_full_pred['SCORE'])))\n",
    "\n",
    "# print(roc_auc_score(df_pred_fram['CLASS'], df_pred_fram['SCORE']))"
   ]
  },
  {
   "cell_type": "code",
   "execution_count": 76,
   "metadata": {
    "collapsed": true
   },
   "outputs": [],
   "source": [
    "# from sklearn.metrics import roc_curve\n",
    "# fpr, tpr, tresh = roc_curve(df_pred['CLASS'], df_pred['SCORE']) \n",
    "# # fpr_fram, tpr_fram, tresh_fram = roc_curve(df_pred_fram['CLASS'], df_pred_fram['PRED'])"
   ]
  },
  {
   "cell_type": "code",
   "execution_count": 50,
   "metadata": {},
   "outputs": [
    {
     "data": {
      "image/png": "[encoded data removed]",
      "text/plain": [
       "<matplotlib.figure.Figure at 0x7f3df91e8d30>"
      ]
     },
     "metadata": {},
     "output_type": "display_data"
    }
   ],
   "source": [
    "import numpy as np\n",
    "import matplotlib.pyplot as plt\n",
    "from itertools import cycle\n",
    "\n",
    "from sklearn.metrics import roc_curve, auc\n",
    "\n",
    "from matplotlib.pyplot import figure\n",
    "figure(num=None, figsize=(10, 10), dpi=80, facecolor='w', edgecolor='k')\n",
    "lw = 2\n",
    "\n",
    "color = ['blue', 'green', 'orange']\n",
    "for df_pred in [df_fram_pred, df_true_fram_pred, df_full_pred]:\n",
    "    n_classes = 2\n",
    "    # Compute ROC curve and ROC area for each class\n",
    "    fpr = dict()\n",
    "    tpr = dict()\n",
    "    roc_auc = dict()\n",
    "    for i in range(n_classes):\n",
    "        fpr[i], tpr[i], _ = roc_curve(df_pred['CLASS'], df_pred['SCORE'])\n",
    "        roc_auc[i] = auc(fpr[i], tpr[i])\n",
    "\n",
    "    # # Compute micro-average ROC curve and ROC area\n",
    "    # fpr[\"micro\"], tpr[\"micro\"], _ = roc_curve(df_pred['PRED'].ravel(), df_pred['SCORE'].ravel())\n",
    "    # roc_auc[\"micro\"] = auc(fpr[\"micro\"], tpr[\"micro\"])\n",
    "\n",
    "    \n",
    "    plt.plot(fpr[1], tpr[1], color=color.pop(),  \n",
    "             lw=lw, label='Fram ROC curve (area = {})'.format(round(roc_auc[1], 3)))\n",
    "\n",
    "\n",
    "# n_classes = 2\n",
    "# # Compute ROC curve and ROC area for each class\n",
    "# fpr = dict()\n",
    "# tpr = dict()\n",
    "# roc_auc = dict()\n",
    "# for i in range(n_classes):\n",
    "#     fpr[i], tpr[i], _ = roc_curve(df_pred_2['CLASS'], df_pred_2['SCORE'])\n",
    "#     roc_auc[i] = auc(fpr[i], tpr[i])\n",
    "    \n",
    "# plt.plot(fpr[1], tpr[1], color='green', linestyle='--', \n",
    "#          lw=lw, label='Full ROC curve (area = {})'.format(round(roc_auc[1], 3)))\n",
    "    \n",
    "# plt.plot([0, 1], [0, 1], color='darkblue', lw=lw, linestyle='-.')\n",
    "# plt.xlim([0.0, 1.0])\n",
    "# plt.ylim([0.0, 1.05])\n",
    "# plt.xlabel('False Positive Rate')\n",
    "# plt.ylabel('True Positive Rate')\n",
    "# plt.title('Receiver operating characteristic example')\n",
    "# plt.legend(loc=\"lower right\")\n",
    "plt.show()"
   ]
  },
  {
   "cell_type": "code",
   "execution_count": 51,
   "metadata": {
    "collapsed": true
   },
   "outputs": [],
   "source": [
    "# from sklearn.metrics import precision_recall_curve\n",
    "# prec, recall, thresh = precision_recall_curve(df_fram_pred['CLASS'], df_fram_pred['SCORE'])\n",
    "# # prec_fram, recall_fram, thresh_fram = precision_recall_curve(df_pred_fram['CLASS'], df_pred_fram['SCORE'])\n",
    "\n",
    "# plt.plot(recall, prec) \n",
    "# # plt.plot(recall_fram, prec_fram)\n",
    "# plt.show()"
   ]
  },
  {
   "cell_type": "code",
   "execution_count": null,
   "metadata": {
    "collapsed": true
   },
   "outputs": [],
   "source": [
    ""
   ]
  },
  {
   "cell_type": "code",
   "execution_count": 52,
   "metadata": {
    "scrolled": false
   },
   "outputs": [
    {
     "data": {
      "image/png": "[encoded data removed]",
      "text/plain": [
       "<matplotlib.figure.Figure at 0x7f3df9220470>"
      ]
     },
     "metadata": {},
     "output_type": "display_data"
    },
    {
     "data": {
      "image/png": "[encoded data removed]",
      "text/plain": [
       "<matplotlib.figure.Figure at 0x7f3df9241dd8>"
      ]
     },
     "metadata": {},
     "output_type": "display_data"
    },
    {
     "data": {
      "image/png": "[encoded data removed]",
      "text/plain": [
       "<matplotlib.figure.Figure at 0x7f3df8669898>"
      ]
     },
     "metadata": {},
     "output_type": "display_data"
    }
   ],
   "source": [
    "from sklearn.metrics import confusion_matrix\n",
    "import numpy as np\n",
    "import itertools\n",
    "\n",
    "for df_pred in [df_fram_pred, df_true_fram_pred, df_full_pred]: \n",
    "    c_matrix = confusion_matrix(df_pred['CLASS'], df_pred['PRED'])\n",
    "    c_matrix_norm = c_matrix.astype('float') / c_matrix.sum()\n",
    "    c_matrix_norm\n",
    "\n",
    "    plt.imshow(c_matrix, interpolation='nearest', cmap=plt.cm.Blues)\n",
    "    plt.title('Confusion Matrix') \n",
    "    plt.colorbar()\n",
    "    tick_marks = np.arange(len(['no CVD', 'CVD']))\n",
    "    plt.xticks(tick_marks, ['no CVD', 'CVD'], rotation=45)\n",
    "    plt.yticks(tick_marks, ['no_CVD', 'CVD'], rotation=45)\n",
    "\n",
    "    fmt = 'd'\n",
    "    thresh = c_matrix.max() / 4.\n",
    "    for i, j in itertools.product(range(c_matrix.shape[0]), range(c_matrix.shape[1])):\n",
    "    #     plt.text(j, i, format(c_matrix[i, j], fmt),\n",
    "        plt.text(j, i, '{}\\n{}'.format(c_matrix[i,j], format(c_matrix_norm[i,j], '.2f')),\n",
    "                 horizontalalignment=\"center\",\n",
    "                 color=\"white\" if c_matrix[i, j] == c_matrix.max() else \"black\")\n",
    "\n",
    "    plt.tight_layout() \n",
    "    plt.ylabel('True label') \n",
    "    plt.xlabel('Pred label')\n",
    "\n",
    "    plt.show()"
   ]
  },
  {
   "cell_type": "code",
   "execution_count": 53,
   "metadata": {
    "collapsed": true,
    "scrolled": true
   },
   "outputs": [],
   "source": [
    "# c_matrix_fram = confusion_matrix(df_pred_fram['CLASS'], df_pred_fram['PRED'])\n",
    "\n",
    "# c_matrix = confusion_matrix(df_pred_fram['CLASS'], df_pred_fram['PRED'])\n",
    "# c_matrix_norm = c_matrix.astype('float') / c_matrix.sum()\n",
    "# c_matrix_norm\n",
    "\n",
    "# plt.imshow(c_matrix_fram, interpolation='nearest', cmap=plt.cm.Blues)\n",
    "# plt.title('Confusion Matrix (fram)') \n",
    "# plt.colorbar()\n",
    "# tick_marks = np.arange(len(['no CVD', 'CVD']))\n",
    "# plt.xticks(tick_marks, ['no CVD', 'CVD'], rotation=45)\n",
    "# plt.yticks(tick_marks, ['no_CVD', 'CVD'], rotation=45)\n",
    "                        \n",
    "# fmt = 'd'\n",
    "# fmt_f = '.2f'\n",
    "# thresh = c_matrix_fram.max() / 3.\n",
    "# for i, j in itertools.product(range(c_matrix_fram.shape[0]), range(c_matrix_fram.shape[1])):\n",
    "#     plt.text(j, i, '{}\\n{}'.format(c_matrix[i,j], format(c_matrix_norm[i,j], '.2f')),\n",
    "#              horizontalalignment=\"center\",\n",
    "#              color='white' if c_matrix_fram[i,j] == c_matrix_fram.max() else 'black')\n",
    "    \n",
    "# plt.tight_layout() \n",
    "# plt.ylabel('True label') \n",
    "# plt.xlabel('Pred label')\n",
    "\n",
    "# plt.show()"
   ]
  },
  {
   "cell_type": "code",
   "execution_count": 54,
   "metadata": {
    "collapsed": true
   },
   "outputs": [],
   "source": [
    "# len(df_pred_fram.loc[(df_pred_fram['CLASS'] == 1) & (df_pred_fram['PRED'] == 0)])"
   ]
  },
  {
   "cell_type": "code",
   "execution_count": 55,
   "metadata": {
    "scrolled": false
   },
   "outputs": [
    {
     "name": "stdout",
     "output_type": "stream",
     "text": [
      "0.668782263423\n",
      "0.76501416106\n",
      "0.941828294237\n"
     ]
    }
   ],
   "source": [
    "order_lst = ['fram', 'true_fram', 'full'] \n",
    "it = 0 \n",
    "\n",
    "num_feat = 20\n",
    "df_top_feat = pd.DataFrame({'RANK': list(range(num_feat))})\n",
    "\n",
    "for df_feat in [df_fram_feat, df_true_fram_feat, df_full_feat]: \n",
    "    # df_feat.sort_values(by='WEIGHT0', ascending=True)\n",
    "    rank_col_lst = [col for col in list(df_feat.columns) if 'WEIGHT' in col]\n",
    "\n",
    "    rank_col_lst.append('FEATURE')\n",
    "    df_feat_rank = df_feat[rank_col_lst].set_index('FEATURE')\n",
    "    # df_feat_rank = pd.concat([df_feat_rank, df_feat_rank.mean(axis=1)], axis=1)\n",
    "    # df_feat_rank = df_feat_rank.rename(columns={0: 'AVG'})\n",
    "    df_feat_rank['AVG'] = df_feat_rank.mean(axis=1)\n",
    "\n",
    "    weight_total = df_feat_rank['AVG'].sum()\n",
    "    pct_weight_lst = [weight / weight_total * 100 for weight in list(df_feat_rank['AVG'])] \n",
    "\n",
    "    # with pd.option_context('display.max_rows', None, 'display.max_columns', 3):\n",
    "    if model == 'lr': \n",
    "        feat_lst = abs(df_feat_rank['AVG']).sort_values(ascending=False).index.values\n",
    "    else: \n",
    "        feat_lst = df_feat_rank['AVG'].sort_values(ascending=False).index.values\n",
    "\n",
    "    df_top_feat[order_lst[it]] = feat_lst[0:num_feat]\n",
    "    print(df_feat_rank['AVG'].loc[feat_lst[0:num_feat]].sum())\n",
    "                            \n",
    "    it += 1"
   ]
  },
  {
   "cell_type": "code",
   "execution_count": 56,
   "metadata": {
    "scrolled": true
   },
   "outputs": [
    {
     "name": "stdout",
     "output_type": "stream",
     "text": [
      "fram\n",
      "                             SMOKING\n",
      "                           med_32968\n",
      "                     missing_bp_True\n",
      "                             phe_418\n",
      "                            med_1191\n",
      "                           phe_250.2\n",
      "                           phe_395.2\n",
      "                          med_221696\n",
      "                             phe_465\n",
      "                           med_10579\n",
      "missing_('Lipase', 'MAX_VALUE')_True\n",
      "                           phe_427.9\n",
      "                           phe_401.1\n",
      "                           phe_350.3\n",
      "                           phe_395.1\n",
      "                          med_854930\n",
      "                           med_19478\n",
      "                            phe_1010\n",
      "missing_('TstPBy', 'MAX_VALUE')_True\n",
      " missing_('LYMPA', 'MAX_VALUE')_True\n",
      "true_fram\n",
      "                             SMOKING\n",
      "                           med_32968\n",
      "                          med_221696\n",
      "                             phe_465\n",
      "                             phe_418\n",
      "                     missing_bp_True\n",
      "                           phe_395.2\n",
      "missing_('Lipase', 'MAX_VALUE')_True\n",
      "                            med_1191\n",
      "                           phe_216.1\n",
      "                          med_854930\n",
      "   missing_('TSH', 'MAX_VALUE')_True\n",
      "                             phe_798\n",
      "                           med_19478\n",
      "                          med_761964\n",
      "                           phe_427.9\n",
      "                           med_10579\n",
      "                            med_5640\n",
      "                           phe_395.1\n",
      "                           phe_350.3\n",
      "full\n",
      "                             SMOKING\n",
      "                     missing_bp_True\n",
      "                           med_32968\n",
      "                             phe_418\n",
      "                            med_1191\n",
      "                           phe_395.2\n",
      "   missing_('PCV', 'MAX_VALUE')_True\n",
      "                           phe_401.1\n",
      "                            med_6918\n",
      "   missing_('MPV', 'MAX_VALUE')_True\n",
      "                           med_10579\n",
      "missing_('TstPBy', 'MAX_VALUE')_True\n",
      "                           phe_375.1\n",
      "                ('CO2', 'MAX_VALUE')\n",
      "missing_('TProSe', 'MAX_VALUE')_True\n",
      "                            med_4917\n",
      "                           med_11253\n",
      "        ('RDW-SD', 'MEASURE_COUNTS')\n",
      "                        MAX_SYSTOLIC\n",
      "                             phe_465\n"
     ]
    }
   ],
   "source": [
    "with pd.option_context('display.max_rows', None, 'display.max_columns', 3):\n",
    "    print(df_top_feat[['fram']].to_string(index=False))\n",
    "    print(df_top_feat[['true_fram']].to_string(index=False))\n",
    "    print(df_top_feat[['full']].to_string(index=False))"
   ]
  },
  {
   "cell_type": "code",
   "execution_count": null,
   "metadata": {
    "collapsed": true
   },
   "outputs": [],
   "source": [
    ""
   ]
  },
  {
   "cell_type": "code",
   "execution_count": null,
   "metadata": {
    "collapsed": true
   },
   "outputs": [],
   "source": [
    ""
   ]
  },
  {
   "cell_type": "code",
   "execution_count": null,
   "metadata": {
    "collapsed": true
   },
   "outputs": [],
   "source": [
    ""
   ]
  }
 ],
 "metadata": {
  "kernelspec": {
   "display_name": "Python (ML)",
   "language": "python",
   "name": "ml"
  },
  "language_info": {
   "codemirror_mode": {
    "name": "ipython",
    "version": 3.0
   },
   "file_extension": ".py",
   "mimetype": "text/x-python",
   "name": "python",
   "nbconvert_exporter": "python",
   "pygments_lexer": "ipython3",
   "version": "3.6.2"
  }
 },
 "nbformat": 4,
 "nbformat_minor": 0
}